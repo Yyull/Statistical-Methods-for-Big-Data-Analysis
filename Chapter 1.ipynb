{
 "cells": [
  {
   "cell_type": "markdown",
   "id": "41df3d0c",
   "metadata": {},
   "source": [
    "# Chapter 1"
   ]
  },
  {
   "cell_type": "markdown",
   "id": "139bacc8",
   "metadata": {},
   "source": [
    "## 1. Python Basics\n",
    "\n",
    "### Variables\n",
    "### Strings"
   ]
  },
  {
   "cell_type": "code",
   "execution_count": 1,
   "id": "c0548f74",
   "metadata": {},
   "outputs": [
    {
     "data": {
      "text/plain": [
       "True"
      ]
     },
     "execution_count": 1,
     "metadata": {},
     "output_type": "execute_result"
    }
   ],
   "source": [
    "'a' == \"a\""
   ]
  },
  {
   "cell_type": "code",
   "execution_count": 2,
   "id": "63aabfa0",
   "metadata": {},
   "outputs": [
    {
     "name": "stdout",
     "output_type": "stream",
     "text": [
      "Hello World\n"
     ]
    }
   ],
   "source": [
    "a = 'Hello World'\n",
    "print(a)"
   ]
  },
  {
   "cell_type": "code",
   "execution_count": 3,
   "id": "077a5942",
   "metadata": {},
   "outputs": [
    {
     "data": {
      "text/plain": [
       "'\\n주석처리를 하는 경우 이런 식으로 code information을 첨부한다\\n'"
      ]
     },
     "execution_count": 3,
     "metadata": {},
     "output_type": "execute_result"
    }
   ],
   "source": [
    "'''\n",
    "주석처리를 하는 경우 이런 식으로 code information을 첨부한다\n",
    "'''"
   ]
  },
  {
   "cell_type": "markdown",
   "id": "5336d486",
   "metadata": {},
   "source": [
    "### Integer and Float (int, float)"
   ]
  },
  {
   "cell_type": "code",
   "execution_count": 4,
   "id": "918c7ed4",
   "metadata": {},
   "outputs": [
    {
     "name": "stdout",
     "output_type": "stream",
     "text": [
      "<class 'int'>\n"
     ]
    }
   ],
   "source": [
    "x = 1\n",
    "print(type(x))"
   ]
  },
  {
   "cell_type": "code",
   "execution_count": 5,
   "id": "bde06475",
   "metadata": {},
   "outputs": [
    {
     "name": "stdout",
     "output_type": "stream",
     "text": [
      "<class 'float'>\n"
     ]
    }
   ],
   "source": [
    "x = 0.1\n",
    "print(type(x))"
   ]
  },
  {
   "cell_type": "markdown",
   "id": "691b439d",
   "metadata": {},
   "source": [
    "### Boolean (bool)"
   ]
  },
  {
   "cell_type": "code",
   "execution_count": 6,
   "id": "3ff4f1aa",
   "metadata": {},
   "outputs": [
    {
     "data": {
      "text/plain": [
       "True"
      ]
     },
     "execution_count": 6,
     "metadata": {},
     "output_type": "execute_result"
    }
   ],
   "source": [
    "5 == 5\n",
    "# type() 함수를 사용하면 데이터가 어떤 형인지 출력할 수 있다"
   ]
  },
  {
   "cell_type": "markdown",
   "id": "0ba32982",
   "metadata": {},
   "source": [
    "### Basic Arithmetic\n",
    "\n",
    "### Math operation\n",
    "- integer와 float형의 데이터에 대하여 사칙연산 가능"
   ]
  },
  {
   "cell_type": "code",
   "execution_count": 7,
   "id": "cf40e5ca",
   "metadata": {},
   "outputs": [
    {
     "name": "stdout",
     "output_type": "stream",
     "text": [
      "2\n"
     ]
    }
   ],
   "source": [
    "# addition\n",
    "print(1+1)"
   ]
  },
  {
   "cell_type": "code",
   "execution_count": 8,
   "id": "b10c60c0",
   "metadata": {},
   "outputs": [
    {
     "name": "stdout",
     "output_type": "stream",
     "text": [
      "3\n"
     ]
    }
   ],
   "source": [
    "# subtraction\n",
    "print(5-2)"
   ]
  },
  {
   "cell_type": "code",
   "execution_count": 9,
   "id": "9907ec5a",
   "metadata": {},
   "outputs": [
    {
     "name": "stdout",
     "output_type": "stream",
     "text": [
      "6\n"
     ]
    }
   ],
   "source": [
    "# multiplication\n",
    "print(3 * 2)"
   ]
  },
  {
   "cell_type": "code",
   "execution_count": 10,
   "id": "c6f4a39e",
   "metadata": {},
   "outputs": [
    {
     "name": "stdout",
     "output_type": "stream",
     "text": [
      "8\n"
     ]
    }
   ],
   "source": [
    "# exponential\n",
    "print(2 ** 3)"
   ]
  },
  {
   "cell_type": "code",
   "execution_count": 11,
   "id": "fdeb5423",
   "metadata": {},
   "outputs": [
    {
     "name": "stdout",
     "output_type": "stream",
     "text": [
      "2.0\n"
     ]
    }
   ],
   "source": [
    "# division\n",
    "print(6 / 3) # 0으로 나누는 경우 error"
   ]
  },
  {
   "cell_type": "code",
   "execution_count": 12,
   "id": "2cb4f528",
   "metadata": {},
   "outputs": [
    {
     "name": "stdout",
     "output_type": "stream",
     "text": [
      "2\n"
     ]
    }
   ],
   "source": [
    "# modulus\n",
    "print(5 % 3)"
   ]
  },
  {
   "cell_type": "markdown",
   "id": "a1305c90",
   "metadata": {},
   "source": [
    "### Boolean Expressions\n",
    "- Boolean형에서 keywords는 True와 False이다."
   ]
  },
  {
   "cell_type": "code",
   "execution_count": 13,
   "id": "5dab485f",
   "metadata": {},
   "outputs": [
    {
     "name": "stdout",
     "output_type": "stream",
     "text": [
      "True\n"
     ]
    }
   ],
   "source": [
    "# equals\n",
    "print(5 == 5)"
   ]
  },
  {
   "cell_type": "code",
   "execution_count": 14,
   "id": "958dea7a",
   "metadata": {},
   "outputs": [
    {
     "name": "stdout",
     "output_type": "stream",
     "text": [
      "False\n"
     ]
    }
   ],
   "source": [
    "# does not equal\n",
    "print(5 != 5)"
   ]
  },
  {
   "cell_type": "code",
   "execution_count": 15,
   "id": "5462a7c7",
   "metadata": {},
   "outputs": [
    {
     "name": "stdout",
     "output_type": "stream",
     "text": [
      "True\n"
     ]
    }
   ],
   "source": [
    "# greater than\n",
    "print(5 > 4)"
   ]
  },
  {
   "cell_type": "code",
   "execution_count": 16,
   "id": "c64b7e73",
   "metadata": {},
   "outputs": [
    {
     "name": "stdout",
     "output_type": "stream",
     "text": [
      "True\n"
     ]
    }
   ],
   "source": [
    "# greater than or equal\n",
    "print(5 >= 5)"
   ]
  },
  {
   "cell_type": "markdown",
   "id": "1ad43735",
   "metadata": {},
   "source": [
    "### Logical Operations\n",
    "- and: 왼쪽 값과 오른쪽 값이 모두 True인 경우에 True를 출력\n",
    "- or: 왼쪽 값과 오른쪽 값 중 하나라도 True이면 True를 출력\n",
    "- not: 값이 True인 경우 False를 값이 False인 경우 True를 출력"
   ]
  },
  {
   "cell_type": "code",
   "execution_count": 17,
   "id": "2dae17d2",
   "metadata": {},
   "outputs": [
    {
     "data": {
      "text/plain": [
       "True"
      ]
     },
     "execution_count": 17,
     "metadata": {},
     "output_type": "execute_result"
    }
   ],
   "source": [
    "(1 == 1) and (2 == 2)"
   ]
  },
  {
   "cell_type": "code",
   "execution_count": 18,
   "id": "1a6bd620",
   "metadata": {},
   "outputs": [
    {
     "data": {
      "text/plain": [
       "True"
      ]
     },
     "execution_count": 18,
     "metadata": {},
     "output_type": "execute_result"
    }
   ],
   "source": [
    "(1 == 1) or (2 != 2)"
   ]
  },
  {
   "cell_type": "code",
   "execution_count": 19,
   "id": "bedc671f",
   "metadata": {},
   "outputs": [
    {
     "data": {
      "text/plain": [
       "False"
      ]
     },
     "execution_count": 19,
     "metadata": {},
     "output_type": "execute_result"
    }
   ],
   "source": [
    "not 5 == 5.0"
   ]
  },
  {
   "cell_type": "markdown",
   "id": "29c5f05c",
   "metadata": {},
   "source": [
    "### Strings"
   ]
  },
  {
   "cell_type": "code",
   "execution_count": 20,
   "id": "ae47345d",
   "metadata": {},
   "outputs": [
    {
     "data": {
      "text/plain": [
       "'HelloWorld'"
      ]
     },
     "execution_count": 20,
     "metadata": {},
     "output_type": "execute_result"
    }
   ],
   "source": [
    "str1 = \"Hello\"\n",
    "str2 = \"World\"\n",
    "str3 = str1 + str2\n",
    "str3"
   ]
  },
  {
   "cell_type": "code",
   "execution_count": 21,
   "id": "a2880bf1",
   "metadata": {},
   "outputs": [
    {
     "data": {
      "text/plain": [
       "'Since 1886'"
      ]
     },
     "execution_count": 21,
     "metadata": {},
     "output_type": "execute_result"
    }
   ],
   "source": [
    "# f - string\n",
    "# 문자열 맨 앞에 f를 붙여주고, 중괄호 안에 직접 변수 이름이나 출력하고 싶은것을 바로 넣으면 됨\n",
    "# f'문자열 {변수} 문자열'\n",
    "\n",
    "x = 1886\n",
    "str1 = f\"Since {x}\"\n",
    "str1"
   ]
  },
  {
   "cell_type": "markdown",
   "id": "ead54c69",
   "metadata": {},
   "source": [
    "### Control Flow\n",
    "\n",
    "### if"
   ]
  },
  {
   "cell_type": "markdown",
   "id": "c1a765a1",
   "metadata": {},
   "source": [
    "- Syntax 1\n",
    "\n",
    "```python\n",
    "if expression:\n",
    "    statement(s)\n",
    "else:\n",
    "    statement(s)\n",
    "```\n"
   ]
  },
  {
   "cell_type": "code",
   "execution_count": 22,
   "id": "7b8f79ee",
   "metadata": {},
   "outputs": [
    {
     "name": "stdout",
     "output_type": "stream",
     "text": [
      "What is your age? : 22\n",
      "You can drive\n"
     ]
    }
   ],
   "source": [
    "# Ex01: Input으로 받은 입력값을 integer로 변환\n",
    "\n",
    "age = int(input(\"What is your age? : \"))\n",
    "\n",
    "if age > 18:\n",
    "    print('You can drive')\n",
    "else:\n",
    "    print('''Sorry, you can't drive''')"
   ]
  },
  {
   "cell_type": "markdown",
   "id": "f6ac2693",
   "metadata": {},
   "source": [
    "- Syntax 2\n",
    "\n",
    "```python\n",
    "if expression1:\n",
    "    statement(s)\n",
    "elif expression2:\n",
    "    statement(s)\n",
    "elif expression3:\n",
    "    statement(s)\n",
    "else:\n",
    "    statement(s)\n",
    "```"
   ]
  },
  {
   "cell_type": "code",
   "execution_count": 23,
   "id": "ee0065f8",
   "metadata": {},
   "outputs": [
    {
     "name": "stdout",
     "output_type": "stream",
     "text": [
      "I am here\n",
      "x is 3\n",
      "Finished\n"
     ]
    }
   ],
   "source": [
    "# Ex02\n",
    "\n",
    "x = 3\n",
    "y = 2\n",
    "\n",
    "if x == y:\n",
    "    print(\"The value of x is the same as value of y\")\n",
    "elif x == 3:\n",
    "    print(\"I am here\")\n",
    "    print(\"x is 3\")\n",
    "else:\n",
    "    print(\"x is something else\")\n",
    "    \n",
    "print(\"Finished\")"
   ]
  },
  {
   "cell_type": "code",
   "execution_count": 24,
   "id": "4f662387",
   "metadata": {},
   "outputs": [
    {
     "name": "stdout",
     "output_type": "stream",
     "text": [
      "입력하는 숫자는 6과 20 사이의 짝수인가? :14\n",
      "Yes\n"
     ]
    }
   ],
   "source": [
    "# Ex03\n",
    "\n",
    "N = int(input(\"입력하는 숫자는 6과 20 사이의 짝수인가? :\"))\n",
    "\n",
    "if N % 2 == 0: # 첫번쨰로 짝수/홀수 판단\n",
    "    \n",
    "    # 두번째로 6과 20 사이의 숫자인지 판단\n",
    "    if N >= 2 and N <= 5:\n",
    "        print(\"No\")\n",
    "    elif N >= 6 and N <= 20:\n",
    "        print(\"Yes\")\n",
    "    elif N > 20:\n",
    "        print(\"No\")\n",
    "else: \n",
    "    print(\"No\")"
   ]
  },
  {
   "cell_type": "markdown",
   "id": "db3f91c8",
   "metadata": {},
   "source": [
    "### for\n",
    "- 같은 계산을 반복해서 수행하는 경우에는 for문을 사용한다.\n",
    "- 이때, 횟수 지정은 숫자 리스트를 지동으로 만들어주는 range 함수를 사용한다."
   ]
  },
  {
   "cell_type": "code",
   "execution_count": 25,
   "id": "a3fbc4f6",
   "metadata": {},
   "outputs": [
    {
     "name": "stdout",
     "output_type": "stream",
     "text": [
      "[2, 3, 4, 5, 6, 7]\n"
     ]
    }
   ],
   "source": [
    "print(list(range(2,8)))"
   ]
  },
  {
   "cell_type": "markdown",
   "id": "82cdc01c",
   "metadata": {},
   "source": [
    "- Syntax\n",
    "\n",
    "```python\n",
    "for val in sequence:\n",
    "    loop body\n",
    "```"
   ]
  },
  {
   "cell_type": "code",
   "execution_count": 26,
   "id": "1dbd1efb",
   "metadata": {},
   "outputs": [
    {
     "name": "stdout",
     "output_type": "stream",
     "text": [
      "0\n",
      "1\n",
      "4\n",
      "9\n",
      "16\n"
     ]
    }
   ],
   "source": [
    "# Ex01\n",
    "\n",
    "for i in range(5):\n",
    "    print(i ** 2)"
   ]
  },
  {
   "cell_type": "code",
   "execution_count": 27,
   "id": "424ae6fe",
   "metadata": {},
   "outputs": [
    {
     "name": "stdout",
     "output_type": "stream",
     "text": [
      "정수를 입력하시오.: 10\n",
      "55\n"
     ]
    }
   ],
   "source": [
    "# Ex02\n",
    "# 정수를 입력받은 후 1부터 입력값까지의 합 구하기\n",
    "\n",
    "# input integer\n",
    "n = int(input(\"정수를 입력하시오.: \")) + 1\n",
    "\n",
    "# set initial value\n",
    "mysum = 0\n",
    "\n",
    "# calculate sum\n",
    "for i in range(0, n):\n",
    "    mysum = mysum + i\n",
    "    \n",
    "print(mysum)"
   ]
  },
  {
   "cell_type": "markdown",
   "id": "90605127",
   "metadata": {},
   "source": [
    "- syntax\n",
    "```python\n",
    "[expression for val in sequence if condition\n",
    "```"
   ]
  },
  {
   "cell_type": "code",
   "execution_count": 28,
   "id": "d3451b20",
   "metadata": {},
   "outputs": [
    {
     "name": "stdout",
     "output_type": "stream",
     "text": [
      "[6, 12]\n"
     ]
    }
   ],
   "source": [
    "# Ex03\n",
    "\n",
    "mylist = [1, 2, 3, 4]\n",
    "\n",
    "res = [num * 3 for num in mylist if num % 2 == 0]  # mylist에서 짝수만 추출한 후 3을 곱하여 출력\n",
    "\n",
    "print(res)"
   ]
  },
  {
   "cell_type": "markdown",
   "id": "12f97a11",
   "metadata": {},
   "source": [
    "- 여러 리스트에서 요소와 인덱스를 동시에 얻으려면 enumerate(), zip() 함수를 함께 사용한다.\n",
    "- enumerate()는 for문 결과 출력 시 인덱스를 출력해주는 함수\n",
    "- zip()은 여러 리스트를 함께 for문에 돌리는 경우 쓰는 함수"
   ]
  },
  {
   "cell_type": "code",
   "execution_count": 29,
   "id": "2cd1774e",
   "metadata": {},
   "outputs": [
    {
     "name": "stdout",
     "output_type": "stream",
     "text": [
      "0 Song 24\n",
      "1 Kim 50\n",
      "2 Lee 18\n"
     ]
    }
   ],
   "source": [
    "# Ex04\n",
    "\n",
    "names = ['Song', 'Kim', 'Lee']\n",
    "ages = [24, 50, 18]\n",
    "\n",
    "for i, (name, age) in enumerate(zip(names, ages)):\n",
    "    print(i, name, age)"
   ]
  },
  {
   "cell_type": "markdown",
   "id": "2e217115",
   "metadata": {},
   "source": [
    "### while\n",
    "- 일반적으로 반복문을 어느 정도 반복해야 하는지 알 수 없을 때 while 문을 많이 사용한다.\n",
    "\n",
    "```python\n",
    "while test_expression:\n",
    "    Body of while\n",
    "```"
   ]
  },
  {
   "cell_type": "code",
   "execution_count": 30,
   "id": "f14ca073",
   "metadata": {},
   "outputs": [
    {
     "name": "stdout",
     "output_type": "stream",
     "text": [
      "1\n",
      "4\n",
      "36\n",
      "1764\n"
     ]
    }
   ],
   "source": [
    "# Ex01\n",
    "\n",
    "i = 1\n",
    "while i < 100:\n",
    "    print(i **2)\n",
    "    i += i ** 2  # a += b is short for a = a + b"
   ]
  },
  {
   "cell_type": "markdown",
   "id": "ee996e3e",
   "metadata": {},
   "source": [
    "```python\n",
    "while <expr>:\n",
    "    <statement>\n",
    "    <statement>\n",
    "    break\n",
    "    <statement>\n",
    "    <statement>\n",
    "    continue\n",
    "    <statement>\n",
    "    <statement>\n",
    "<statement>\n",
    "```\n",
    "\n",
    "- 제어문에서 break와 continue 명령문을 이용하여 루프의 경로를 변경할 수 있다.\n",
    "- 왼쪽의 그림을 보면, break 바로 위의 명령문이 True일 경우 루프를 종료하고 continue 바로 위의 명령문이 True일 경우 루프의 시작 지점으로 이동한다."
   ]
  },
  {
   "cell_type": "code",
   "execution_count": 31,
   "id": "947ec5fb",
   "metadata": {},
   "outputs": [
    {
     "name": "stdout",
     "output_type": "stream",
     "text": [
      "1\n",
      "2\n",
      "3\n",
      "4\n",
      "5\n"
     ]
    }
   ],
   "source": [
    "# Ex02\n",
    "\n",
    "i = 1\n",
    "\n",
    "while True:\n",
    "    print(i)\n",
    "    i = i + 1 # update\n",
    "    \n",
    "    if(i > 5):  # i가 5 보다 큰 경우 종료\n",
    "        break"
   ]
  },
  {
   "cell_type": "code",
   "execution_count": 32,
   "id": "76cfb8af",
   "metadata": {},
   "outputs": [
    {
     "name": "stdout",
     "output_type": "stream",
     "text": [
      "2\n",
      "4\n",
      "5\n"
     ]
    }
   ],
   "source": [
    "# Ex03\n",
    "\n",
    "a = 1\n",
    "\n",
    "while a < 5:\n",
    "    a += 1\n",
    "    \n",
    "    if a == 3:\n",
    "        continue  # a가 3 일 경우 시작지점으로 이동\n",
    "    print(a)"
   ]
  },
  {
   "cell_type": "markdown",
   "id": "0fb364e5",
   "metadata": {},
   "source": [
    "## 2. Packages\n",
    "\n",
    "### Install package\n",
    "- 관리자 프롬프트를 열고 다음을 실행한다\n",
    "```python\n",
    "pip install 패키지이름\n",
    "```\n",
    "\n",
    "- cmd에 들어가지 않고 jupyter에서도 설치가 가능하다\n",
    "- jupyter에서는 \"!\" 이후에 나오는 내용들을 cmd 창에서 입력하는 것과 동일하게 처리한다\n",
    "```python\n",
    "! pip install numpy\n",
    "```"
   ]
  },
  {
   "cell_type": "markdown",
   "id": "3ed55026",
   "metadata": {},
   "source": [
    "### numpy, pandas\n",
    "- numpy와 pandas는 외부 패키지이다.\n",
    "- R 개발자들이 파이썬으로 통계분석을 하기 위하면 만든 패키지로, 데이터를 읽어 가공하거나 통계량을 계산하는 등의 기능을 제공하는 패키지이다."
   ]
  },
  {
   "cell_type": "code",
   "execution_count": 33,
   "id": "c30d77bd",
   "metadata": {},
   "outputs": [],
   "source": [
    "import numpy as np\n",
    "import pandas as pd"
   ]
  },
  {
   "cell_type": "markdown",
   "id": "d9387859",
   "metadata": {},
   "source": [
    "### matplotlib, seaborn\n",
    "- matplotlib, seaborn은 데이터를 시각화 하는데 사용되는 패키지이다."
   ]
  },
  {
   "cell_type": "code",
   "execution_count": 34,
   "id": "c120c896",
   "metadata": {},
   "outputs": [],
   "source": [
    "import matplotlib.pyplot as plt\n",
    "import seaborn as sns"
   ]
  },
  {
   "cell_type": "markdown",
   "id": "040b8948",
   "metadata": {},
   "source": [
    "### Sklearn, Tensorflow\n",
    "- Sklearn, Tensorflow는 머신러닝을 위한 패키지이다."
   ]
  },
  {
   "cell_type": "code",
   "execution_count": 35,
   "id": "47f8c1b7",
   "metadata": {},
   "outputs": [],
   "source": [
    "import tensorflow as tf\n",
    "from sklearn.linear_model import LogisticRegression\n",
    "from sklearn.datasets import load_iris\n",
    "from sklearn.model_selection import train_test_split"
   ]
  },
  {
   "cell_type": "markdown",
   "id": "19922338",
   "metadata": {},
   "source": [
    "## 3. Objects\n",
    "\n",
    "### List\n",
    "- 리스트는 복수의 데이터를 모아서 묶어둔 것으로 파이썬의 표준 데이터 형식이다.\n",
    "- 데이터를 대괄호 []로 감싸주면 리스트를 만들 수 있다."
   ]
  },
  {
   "cell_type": "code",
   "execution_count": 36,
   "id": "019b3535",
   "metadata": {},
   "outputs": [
    {
     "data": {
      "text/plain": [
       "[1, 2, 3, 4, 5]"
      ]
     },
     "execution_count": 36,
     "metadata": {},
     "output_type": "execute_result"
    }
   ],
   "source": [
    "sample_list = [1, 2, 3, 4, 5]\n",
    "sample_list"
   ]
  },
  {
   "cell_type": "markdown",
   "id": "445fba1a",
   "metadata": {},
   "source": [
    "### indexing\n",
    "- R에서의 인덱싱과 다르게 파이썬에서 리스트의 인덱싱은 0부터 시작한다.\n",
    "- 리스트의 인덱스는 0 부터 시작해 '리스트의 길이 - 1'까지가 끝이다.\n",
    "- 인덱스에는 양수 뿐만 아니라 음수도 들어갈 수 있다."
   ]
  },
  {
   "cell_type": "code",
   "execution_count": 37,
   "id": "35839e7c",
   "metadata": {},
   "outputs": [
    {
     "data": {
      "text/plain": [
       "1"
      ]
     },
     "execution_count": 37,
     "metadata": {},
     "output_type": "execute_result"
    }
   ],
   "source": [
    "sample_list[0]"
   ]
  },
  {
   "cell_type": "code",
   "execution_count": 38,
   "id": "a38ba02f",
   "metadata": {},
   "outputs": [
    {
     "name": "stdout",
     "output_type": "stream",
     "text": [
      "5 4\n"
     ]
    }
   ],
   "source": [
    "print(sample_list[-1], sample_list[-2]) # sample_list[-1] is last item"
   ]
  },
  {
   "cell_type": "markdown",
   "id": "33d1fc76",
   "metadata": {},
   "source": [
    "### slicing\n",
    "```python\n",
    "a[start:stop]       # items start through stop - 1\n",
    "a[start:]           # items start through the rest of the list\n",
    "a[:stop]            # items from the beginning through stop - 1\n",
    "a[:]                # a copy of the whole list\n",
    "a[start:stop:step]  # start through not past stop, by step\n",
    "a[-1]               # last item of the whole list\n",
    "a[-2:]              # last two items in the list\n",
    "a[:-2]              # everything except the last two items\n",
    "a[::-1]             # all items in the list, reversed\n",
    "a[1::-1]            # the first two items, reversed\n",
    "a[:-3:-1]           # the last two items, reversed\n",
    "a[-3::-1]           # everything except the last two items, reversed\n",
    "```\n",
    "- 콜론은 모든 인덱스를 의미한다."
   ]
  },
  {
   "cell_type": "code",
   "execution_count": 39,
   "id": "c7db9920",
   "metadata": {},
   "outputs": [
    {
     "name": "stdout",
     "output_type": "stream",
     "text": [
      "sample list[1:2] : [2]\n"
     ]
    }
   ],
   "source": [
    "# list slicing example\n",
    "\n",
    "# 1:2 는 1 부터 (2 -1) 까지 인덱싱을 하므로 sample_list[1] 만을 출력하게 된다.\n",
    "a = sample_list[1 : 2]\n",
    "print(f'sample list[1:2] : {a}')"
   ]
  },
  {
   "cell_type": "code",
   "execution_count": 40,
   "id": "1f72a00d",
   "metadata": {},
   "outputs": [
    {
     "name": "stdout",
     "output_type": "stream",
     "text": [
      "sample list[:] : [1, 2, 3, 4, 5]\n"
     ]
    }
   ],
   "source": [
    "# 모든 item 을 출력한다.\n",
    "a = sample_list[:]\n",
    "print(f'sample list[:] : {a}')"
   ]
  },
  {
   "cell_type": "code",
   "execution_count": 41,
   "id": "513f3332",
   "metadata": {},
   "outputs": [
    {
     "name": "stdout",
     "output_type": "stream",
     "text": [
      "sample list[-4:] : [2, 3, 4, 5]\n"
     ]
    }
   ],
   "source": [
    "# sample_list[-4]부터 끝까지 출력한다.\n",
    "a = sample_list[-4:]\n",
    "print(f'sample list[-4:] : {a}')"
   ]
  },
  {
   "cell_type": "code",
   "execution_count": 42,
   "id": "1b0c504b",
   "metadata": {},
   "outputs": [
    {
     "name": "stdout",
     "output_type": "stream",
     "text": [
      "sample list[:-3] : [1, 2]\n"
     ]
    }
   ],
   "source": [
    "# 처음부터 sample_list[-4]까지만 출력한다.\n",
    "a = sample_list[:-3]\n",
    "print(f'sample list[:-3] : {a}')"
   ]
  },
  {
   "cell_type": "code",
   "execution_count": 43,
   "id": "40a25f43",
   "metadata": {},
   "outputs": [
    {
     "name": "stdout",
     "output_type": "stream",
     "text": [
      "sample list[0:5:2] : [1, 3, 5]\n"
     ]
    }
   ],
   "source": [
    "# 0,2,4 번째 인덱스에 해당하는 값을 출력한다.\n",
    "a = sample_list[0:5:2]\n",
    "print(f'sample list[0:5:2] : {a}')"
   ]
  },
  {
   "cell_type": "code",
   "execution_count": 44,
   "id": "cb8c11d7",
   "metadata": {},
   "outputs": [
    {
     "name": "stdout",
     "output_type": "stream",
     "text": [
      "sample list[i] for i in [0, 2, 4]: [1, 3, 5]\n"
     ]
    }
   ],
   "source": [
    "# 0,2,4 번째 인덱스에 해당하는 값을 출력한다.\n",
    "a = [sample_list[i] for i in [0, 2, 4]]\n",
    "print(f'sample list[i] for i in [0, 2, 4]: {a}')"
   ]
  },
  {
   "cell_type": "code",
   "execution_count": 45,
   "id": "f3228eaf",
   "metadata": {},
   "outputs": [
    {
     "name": "stdout",
     "output_type": "stream",
     "text": [
      "sample list[2::] : [3, 4, 5]\n"
     ]
    }
   ],
   "source": [
    "# sample_list[2] 를 기준으로 오른쪽으로 모든 값들을 출력한다.\n",
    "a = sample_list[2::]\n",
    "print(f'sample list[2::] : {a}')"
   ]
  },
  {
   "cell_type": "code",
   "execution_count": 46,
   "id": "cf99d7c3",
   "metadata": {},
   "outputs": [
    {
     "name": "stdout",
     "output_type": "stream",
     "text": [
      "sample list[2::-1] : [3, 2, 1]\n"
     ]
    }
   ],
   "source": [
    "# sample_list[2] 를 기준으로 왼쪽의 모든 값들의 순서를 뒤집어서 출력한다.\n",
    "a = sample_list[2::-1]\n",
    "print(f'sample list[2::-1] : {a}')"
   ]
  },
  {
   "cell_type": "code",
   "execution_count": 47,
   "id": "2b1b2846",
   "metadata": {},
   "outputs": [
    {
     "name": "stdout",
     "output_type": "stream",
     "text": [
      "sample list[:-3:] : [1, 2]\n"
     ]
    }
   ],
   "source": [
    "# sample_list[-4] 를 기준으로 왼쪽의 모든 값들을 출력한다.\n",
    "a = sample_list[:-3:]\n",
    "print(f'sample list[:-3:] : {a}')"
   ]
  },
  {
   "cell_type": "code",
   "execution_count": 48,
   "id": "6a34d945",
   "metadata": {},
   "outputs": [
    {
     "name": "stdout",
     "output_type": "stream",
     "text": [
      "sample list[:-3:-1] : [5, 4]\n"
     ]
    }
   ],
   "source": [
    "# sample_list[-2] 를 기준으로 오른쪽의 모든 값들의 순서를 뒤집어서 출력한다.\n",
    "a = sample_list[:-3:-1]\n",
    "print(f'sample list[:-3:-1] : {a}')"
   ]
  },
  {
   "cell_type": "markdown",
   "id": "569940a8",
   "metadata": {},
   "source": [
    "### List Operation\n",
    "- len(): 리스트의 길이를 구하는 함수\n",
    "- del(): 리스트의 특정 요소 혹은 리스트의 특정 범위를 삭제하는 함수\n",
    "- 덧셈: 리스트를 이어 붙임\n",
    "- 곱셈: 리스트를 반복"
   ]
  },
  {
   "cell_type": "code",
   "execution_count": 49,
   "id": "f9375bd9",
   "metadata": {},
   "outputs": [
    {
     "name": "stdout",
     "output_type": "stream",
     "text": [
      "5\n",
      "[1, 3, 4, 5]\n"
     ]
    }
   ],
   "source": [
    "# Ex01\n",
    "\n",
    "# Len()\n",
    "print(len(sample_list))\n",
    "\n",
    "# del()\n",
    "del(sample_list[1])\n",
    "print(sample_list)"
   ]
  },
  {
   "cell_type": "code",
   "execution_count": 50,
   "id": "67c8e4b2",
   "metadata": {},
   "outputs": [
    {
     "name": "stdout",
     "output_type": "stream",
     "text": [
      "[1, 2, 3, 4, 5]\n",
      "[1, 2, 3, 1, 2, 3]\n"
     ]
    }
   ],
   "source": [
    "# Ex02\n",
    "\n",
    "list1 = [1, 2, 3]\n",
    "list2 = [4, 5]\n",
    "\n",
    "# 덧셈\n",
    "list3 = list1 + list2\n",
    "print(list3)\n",
    "\n",
    "# 곱셈\n",
    "print(list1*2)"
   ]
  },
  {
   "cell_type": "markdown",
   "id": "a6f756b9",
   "metadata": {},
   "source": [
    "```python\n",
    "list.append(x)  # 리스트의 맨 뒤에 값에 추가\n",
    "list.insert(a, b) # 리스트의 a(index) 위치에 b 값을 추가하는 함수\n",
    "list.remove(x) # 리스트에서 특정 값 제거\n",
    "list.pop() # 리스트 맨 마지막 값 반환 후 삭제\n",
    "list.extend(list2) # 리스트에서 다른 리스트2 연결\n",
    "list.copy() # 리스트 복사\n",
    "list.reverse() # last two items in the list\n",
    "list.sort() # everything except the last two items\n",
    "list.count(x) # all items in the list, reversed\n",
    "list.index(x) # the first two items, reversed\n",
    "list.clear() # the last two items, reversed\n",
    "```"
   ]
  },
  {
   "cell_type": "code",
   "execution_count": 51,
   "id": "e5a38ede",
   "metadata": {},
   "outputs": [
    {
     "name": "stdout",
     "output_type": "stream",
     "text": [
      "append : [1, 2, 3, 4, 5, 9]\n"
     ]
    }
   ],
   "source": [
    "# Ex\n",
    "\n",
    "list1 = [1, 2, 3, 4, 5]\n",
    "list2 = [6, 7, 8]\n",
    "\n",
    "# append\n",
    "list1.append(9)\n",
    "print(f'append : {list1}')"
   ]
  },
  {
   "cell_type": "code",
   "execution_count": 52,
   "id": "573c95de",
   "metadata": {},
   "outputs": [
    {
     "name": "stdout",
     "output_type": "stream",
     "text": [
      "insert : [1, 1.5, 2, 3, 4, 5, 9]\n"
     ]
    }
   ],
   "source": [
    "# insert \n",
    "list1.insert(1, 1.5)\n",
    "print(f'insert : {list1}')"
   ]
  },
  {
   "cell_type": "code",
   "execution_count": 53,
   "id": "dd7762ce",
   "metadata": {},
   "outputs": [
    {
     "name": "stdout",
     "output_type": "stream",
     "text": [
      "remove : [1, 1.5, 2, 3, 4, 5]\n"
     ]
    }
   ],
   "source": [
    "# remove \n",
    "list1.remove(9)\n",
    "print(f'remove : {list1}')"
   ]
  },
  {
   "cell_type": "code",
   "execution_count": 54,
   "id": "1c9bd35b",
   "metadata": {},
   "outputs": [
    {
     "name": "stdout",
     "output_type": "stream",
     "text": [
      "pop : [1, 1.5, 2, 3, 4]\n"
     ]
    }
   ],
   "source": [
    "# pop\n",
    "list1.pop()\n",
    "print(f'pop : {list1}')"
   ]
  },
  {
   "cell_type": "code",
   "execution_count": 55,
   "id": "c0adb7c5",
   "metadata": {},
   "outputs": [
    {
     "name": "stdout",
     "output_type": "stream",
     "text": [
      " extend : [1, 1.5, 2, 3, 4, 6, 7, 8]\n"
     ]
    }
   ],
   "source": [
    "# extend\n",
    "list1.extend(list2)\n",
    "print(f' extend : {list1}')"
   ]
  },
  {
   "cell_type": "code",
   "execution_count": 56,
   "id": "69e28a9b",
   "metadata": {},
   "outputs": [
    {
     "name": "stdout",
     "output_type": "stream",
     "text": [
      "copy : [1, 1.5, 2, 3, 4, 6, 7, 8]\n"
     ]
    }
   ],
   "source": [
    "# copy\n",
    "list3 = list1.copy()\n",
    "print(f'copy : {list3}')"
   ]
  },
  {
   "cell_type": "code",
   "execution_count": 57,
   "id": "0a2207f6",
   "metadata": {},
   "outputs": [
    {
     "name": "stdout",
     "output_type": "stream",
     "text": [
      "reverse : [8, 7, 6, 4, 3, 2, 1.5, 1]\n"
     ]
    }
   ],
   "source": [
    "# reverse\n",
    "list3.reverse()  # list3.sort(reverse = True)\n",
    "print(f'reverse : {list3}')"
   ]
  },
  {
   "cell_type": "code",
   "execution_count": 58,
   "id": "97287b8b",
   "metadata": {},
   "outputs": [
    {
     "name": "stdout",
     "output_type": "stream",
     "text": [
      "sort : [1, 1.5, 2, 3, 4, 6, 7, 8]\n"
     ]
    }
   ],
   "source": [
    "# sort\n",
    "list3.sort()\n",
    "print(f'sort : {list3}')"
   ]
  },
  {
   "cell_type": "code",
   "execution_count": 59,
   "id": "5c0e1e16",
   "metadata": {},
   "outputs": [
    {
     "name": "stdout",
     "output_type": "stream",
     "text": [
      "count : [1, 1.5, 2, 3, 4, 6, 7, 8]\n"
     ]
    }
   ],
   "source": [
    "# count\n",
    "list3.count(11)\n",
    "print(f'count : {list3}')"
   ]
  },
  {
   "cell_type": "code",
   "execution_count": 60,
   "id": "3332dce6",
   "metadata": {},
   "outputs": [
    {
     "name": "stdout",
     "output_type": "stream",
     "text": [
      "index : [1, 1.5, 2, 3, 4, 6, 7, 8]\n"
     ]
    }
   ],
   "source": [
    "# index \n",
    "list3.index(3)\n",
    "print(f'index : {list3}')"
   ]
  },
  {
   "cell_type": "code",
   "execution_count": 61,
   "id": "ee596f9d",
   "metadata": {},
   "outputs": [
    {
     "name": "stdout",
     "output_type": "stream",
     "text": [
      "clear : []\n"
     ]
    }
   ],
   "source": [
    "# clear\n",
    "list3.clear()\n",
    "print(f'clear : {list3}')"
   ]
  },
  {
   "cell_type": "markdown",
   "id": "87d76bc2",
   "metadata": {},
   "source": [
    "### array\n",
    "- 파이썬에서 많이 사용되는 object type 중 하나는 np,array 이다.\n",
    "- array를 만들기 위해서는 파이썬의 library인 numpy를 먼저 import 해야한다.\n",
    "- 다른 방법으로는 list를 이용하여 array를 만들 수 있다."
   ]
  },
  {
   "cell_type": "code",
   "execution_count": 62,
   "id": "8705c3ae",
   "metadata": {},
   "outputs": [
    {
     "name": "stdout",
     "output_type": "stream",
     "text": [
      "[1 2 3 4 5]\n"
     ]
    }
   ],
   "source": [
    "# Load package\n",
    "import numpy as np\n",
    "\n",
    "# 1D array 생성\n",
    "sample_array = np.array([1, 2, 3, 4, 5])\n",
    "print(sample_array)"
   ]
  },
  {
   "cell_type": "code",
   "execution_count": 63,
   "id": "6367e5f1",
   "metadata": {},
   "outputs": [
    {
     "name": "stdout",
     "output_type": "stream",
     "text": [
      "[[ 1  2  3  4  5]\n",
      " [ 6  7  8  9 10]]\n"
     ]
    }
   ],
   "source": [
    "# 2D array 생성\n",
    "sample_array2 = np.array([[1, 2, 3, 4, 5], [6, 7, 8, 9, 10]])\n",
    "print(sample_array2)"
   ]
  },
  {
   "cell_type": "markdown",
   "id": "7f3dfcb5",
   "metadata": {},
   "source": [
    "- array의 차원 및 크기는 ndim과 shape으로 알 수 있다."
   ]
  },
  {
   "cell_type": "code",
   "execution_count": 64,
   "id": "6c3746c8",
   "metadata": {},
   "outputs": [
    {
     "name": "stdout",
     "output_type": "stream",
     "text": [
      "1\n",
      "(2, 5)\n"
     ]
    }
   ],
   "source": [
    "print(sample_array.ndim)\n",
    "print(sample_array2.shape)"
   ]
  },
  {
   "cell_type": "markdown",
   "id": "5e9f0f38",
   "metadata": {},
   "source": [
    "- 파이썬에서 np.array의 2D array는 R의 matrix 형태와 비슷하게 다뤄진다."
   ]
  },
  {
   "cell_type": "code",
   "execution_count": 65,
   "id": "e1128c60",
   "metadata": {},
   "outputs": [
    {
     "name": "stdout",
     "output_type": "stream",
     "text": [
      "[[ 0  0  0  0  0]\n",
      " [ 0  1  2  3  4]\n",
      " [ 0  2  4  6  8]\n",
      " [ 0  3  6  9 12]\n",
      " [ 0  4  8 12 16]]\n"
     ]
    }
   ],
   "source": [
    "import numpy as np\n",
    "\n",
    "array = np.array([[i * j for i in range(5)] for j in range(5)])\n",
    "print(array)"
   ]
  },
  {
   "cell_type": "markdown",
   "id": "a2a9b8c8",
   "metadata": {},
   "source": [
    "- initializing function을 이용하여 numpy array를 만드는 방법도 있다.\n",
    "    - np.zeros\n",
    "    - np.ones\n",
    "    - np.arange\n",
    "- 이 함수들은 reshape을 이용하여 for loop 없이 array를 만들 수 있다.\n",
    "- numpy에서 reshape 함수는 array의 차원과 모양을 바꿔준다."
   ]
  },
  {
   "cell_type": "code",
   "execution_count": 66,
   "id": "66553676",
   "metadata": {},
   "outputs": [
    {
     "data": {
      "text/plain": [
       "array([0., 0., 0., 0., 0., 0., 0., 0., 0., 0.])"
      ]
     },
     "execution_count": 66,
     "metadata": {},
     "output_type": "execute_result"
    }
   ],
   "source": [
    "x = np.zeros((10))\n",
    "x"
   ]
  },
  {
   "cell_type": "code",
   "execution_count": 67,
   "id": "bd007ec2",
   "metadata": {},
   "outputs": [
    {
     "data": {
      "text/plain": [
       "array([[0.],\n",
       "       [0.],\n",
       "       [0.],\n",
       "       [0.],\n",
       "       [0.],\n",
       "       [0.],\n",
       "       [0.],\n",
       "       [0.],\n",
       "       [0.],\n",
       "       [0.]])"
      ]
     },
     "execution_count": 67,
     "metadata": {},
     "output_type": "execute_result"
    }
   ],
   "source": [
    "np.zeros((10, 1))"
   ]
  },
  {
   "cell_type": "markdown",
   "id": "228f8c39",
   "metadata": {},
   "source": [
    "- reshape 함수를 이용하는 경우 reshape(n, -1)과 같은 예시를 많이 볼 수 있다.\n",
    "- -1 은 n의 크기에 맞추어 원본 데이터 개수가 유지되도록 차원을 정해주는 역할을 한다."
   ]
  },
  {
   "cell_type": "code",
   "execution_count": 68,
   "id": "12e6e6d1",
   "metadata": {},
   "outputs": [
    {
     "name": "stdout",
     "output_type": "stream",
     "text": [
      "[[ 0  1  2  3  4]\n",
      " [ 5  6  7  8  9]\n",
      " [10 11 12 13 14]\n",
      " [15 16 17 18 19]]\n",
      "[[[ 0  1]\n",
      "  [ 2  3]\n",
      "  [ 4  5]\n",
      "  [ 6  7]\n",
      "  [ 8  9]]\n",
      "\n",
      " [[10 11]\n",
      "  [12 13]\n",
      "  [14 15]\n",
      "  [16 17]\n",
      "  [18 19]]]\n"
     ]
    }
   ],
   "source": [
    "a2 = np.arange(20)\n",
    "print(a2.reshape(4, -1))  # 20 = 4 X 5(-1)\n",
    "print(a2.reshape(2, 5, -1))  # 20 = 2 X 5 X 2(-1)"
   ]
  },
  {
   "cell_type": "markdown",
   "id": "61232a8c",
   "metadata": {},
   "source": [
    "### indexing and slice\n",
    "- array의 인덱싱과 슬라이싱은 list와 동일하다. 단, array의 차원에 따라서 인덱싱의 의미가 달라진다."
   ]
  },
  {
   "cell_type": "code",
   "execution_count": 69,
   "id": "76c05663",
   "metadata": {},
   "outputs": [
    {
     "name": "stdout",
     "output_type": "stream",
     "text": [
      "[1 2]\n",
      "[[ 1  2  3  4  5]\n",
      " [ 6  7  8  9 10]]\n"
     ]
    }
   ],
   "source": [
    "print(sample_array[0:2])\n",
    "print(sample_array2[0:2])"
   ]
  },
  {
   "cell_type": "code",
   "execution_count": 70,
   "id": "d97dbb92",
   "metadata": {},
   "outputs": [
    {
     "name": "stdout",
     "output_type": "stream",
     "text": [
      "[]\n",
      "[[2 3]\n",
      " [7 8]]\n"
     ]
    }
   ],
   "source": [
    "print(sample_array2[0:0])\n",
    "print(sample_array2[0:2, 1:3])"
   ]
  },
  {
   "cell_type": "markdown",
   "id": "6b7ffeaa",
   "metadata": {},
   "source": [
    "### Vectorization and broadcasting\n",
    "- list의 경우 여러가지 타입의 원소들이 들어갈 수 있는 반면, array의 경우 모든 원소들이 같은 자료형이어야 한다.\n",
    "- 이런 제약을 가지는 대신에 반복문을 사용하지 않고 벡터화(vectorizaiton) 연산이 가능하며 계산 속도가 향상된다."
   ]
  },
  {
   "cell_type": "code",
   "execution_count": 71,
   "id": "41833905",
   "metadata": {},
   "outputs": [
    {
     "data": {
      "text/plain": [
       "array([[1., 2., 3.],\n",
       "       [4., 5., 6.]])"
      ]
     },
     "execution_count": 71,
     "metadata": {},
     "output_type": "execute_result"
    }
   ],
   "source": [
    "arr = np.array([[1., 2., 3.], [4., 5., 6.]])\n",
    "arr"
   ]
  },
  {
   "cell_type": "code",
   "execution_count": 72,
   "id": "45070bc9",
   "metadata": {},
   "outputs": [
    {
     "name": "stdout",
     "output_type": "stream",
     "text": [
      "float64\n"
     ]
    }
   ],
   "source": [
    "# type 확인\n",
    "print(arr.dtype)"
   ]
  },
  {
   "cell_type": "code",
   "execution_count": 73,
   "id": "f17cc356",
   "metadata": {},
   "outputs": [
    {
     "name": "stdout",
     "output_type": "stream",
     "text": [
      "[[ 1.  4.  9.]\n",
      " [16. 25. 36.]]\n"
     ]
    }
   ],
   "source": [
    "# 곱하기\n",
    "print(arr * arr)"
   ]
  },
  {
   "cell_type": "code",
   "execution_count": 74,
   "id": "ab7d8a23",
   "metadata": {},
   "outputs": [
    {
     "name": "stdout",
     "output_type": "stream",
     "text": [
      "[[0. 0. 0.]\n",
      " [0. 0. 0.]]\n"
     ]
    }
   ],
   "source": [
    "# 뺴기\n",
    "print(arr - arr)"
   ]
  },
  {
   "cell_type": "code",
   "execution_count": 75,
   "id": "0b626a6f",
   "metadata": {},
   "outputs": [
    {
     "name": "stdout",
     "output_type": "stream",
     "text": [
      "[[1.         0.5        0.33333333]\n",
      " [0.25       0.2        0.16666667]]\n"
     ]
    }
   ],
   "source": [
    "# 나누기\n",
    "print(1 / arr)"
   ]
  },
  {
   "cell_type": "markdown",
   "id": "49560142",
   "metadata": {},
   "source": [
    "- 크기가 다른 배열 간에도 연산이 가능하다.\n",
    "- 이러한 연산을 브로드캐스팅(broadcasting)이라고 한다.\n",
    "- 단, 차원의 길이가 같은 경우만 가능하다."
   ]
  },
  {
   "cell_type": "code",
   "execution_count": 76,
   "id": "62c8c68f",
   "metadata": {},
   "outputs": [
    {
     "name": "stdout",
     "output_type": "stream",
     "text": [
      "[[ 5  7  9]\n",
      " [ 8 10 12]]\n"
     ]
    }
   ],
   "source": [
    "arr1 = np.array([1, 2, 3]) # 1 X 3\n",
    "arr2 = np.array([[4, 5, 6], [7, 8, 9]]) # 2 X 3\n",
    "arr3 = np.array([1, 2, 3, 4])  # 1 X 4\n",
    "\n",
    "print(arr1 + arr2)\n",
    "# print(arr1 + arr3) Error"
   ]
  },
  {
   "cell_type": "markdown",
   "id": "af77cba0",
   "metadata": {},
   "source": [
    "### Series and Dataframe\n",
    "- Pandas 는 파이썬에서 tabular data 를 다루기 위한 패키지이며 R의 dataframe과 동일하다.\n",
    "- Pandas에서 다루는 두가지 object로 Series와 DataFrame이 있다."
   ]
  },
  {
   "cell_type": "markdown",
   "id": "5f9aa06c",
   "metadata": {},
   "source": [
    "### pd.Series\n",
    "- Dimensions = 1\n",
    "- 1D labeled homogenously-typed array\n",
    "\n",
    "### pd.DataFrame\n",
    "- Dimensions = 2\n",
    "- General 2D labeled, size-mutable tabular structure"
   ]
  },
  {
   "cell_type": "markdown",
   "id": "cff16751",
   "metadata": {},
   "source": [
    "### Series\n",
    "- Series는 vector와 label이 합쳐진 개념이다.\n",
    "- Series는 vector와 index가 항상 함께 출력되는데 index는 자료형에 관계없이 자유롭게 지정이 가능하기 때문에 label처럼 이용된다.\n"
   ]
  },
  {
   "cell_type": "markdown",
   "id": "dfe137d9",
   "metadata": {},
   "source": [
    " \n",
    "- Series Attributes\n",
    "    - s.index: get the index\n",
    "    - s.values: get the values\n",
    "    - s.shape: find the shape\n",
    "   "
   ]
  },
  {
   "cell_type": "code",
   "execution_count": 77,
   "id": "be2aeee0",
   "metadata": {},
   "outputs": [
    {
     "data": {
      "text/plain": [
       "0     1\n",
       "1     2\n",
       "2     4\n",
       "3     8\n",
       "4    16\n",
       "5    32\n",
       "6    64\n",
       "dtype: int64"
      ]
     },
     "execution_count": 77,
     "metadata": {},
     "output_type": "execute_result"
    }
   ],
   "source": [
    "import pandas as pd\n",
    "import numpy as np\n",
    "\n",
    "mys = pd.Series([1, 2, 4, 8, 16, 32, 64])\n",
    "mys"
   ]
  },
  {
   "cell_type": "markdown",
   "id": "21e7a0c9",
   "metadata": {},
   "source": [
    "### DataFrame\n",
    "- DataFrame을 정의하는 간단한 코드는 다음과 같다.\n",
    "```python\n",
    "df = pd.DataFrame(data, index = index, columns = columns)\n",
    "```\n",
    "- pandas의 데이터프레임을 만드는 방법은 여러 가지가 있지만 배열이나 리스트를 이용해서 만드는 방법이 보편적이다. (이때, 중괄호를 반드시 써야한다.)"
   ]
  },
  {
   "cell_type": "markdown",
   "id": "82ceaa2f",
   "metadata": {},
   "source": [
    "- DataFrame Attributes\n",
    "    - df.index: the row index of the df\n",
    "    - df.columns: the columns of the df\n",
    "    - df.shape: the shape of the df\n",
    "    - df.values: numpy array of values"
   ]
  },
  {
   "cell_type": "code",
   "execution_count": 78,
   "id": "c65338d4",
   "metadata": {},
   "outputs": [
    {
     "data": {
      "text/html": [
       "<div>\n",
       "<style scoped>\n",
       "    .dataframe tbody tr th:only-of-type {\n",
       "        vertical-align: middle;\n",
       "    }\n",
       "\n",
       "    .dataframe tbody tr th {\n",
       "        vertical-align: top;\n",
       "    }\n",
       "\n",
       "    .dataframe thead th {\n",
       "        text-align: right;\n",
       "    }\n",
       "</style>\n",
       "<table border=\"1\" class=\"dataframe\">\n",
       "  <thead>\n",
       "    <tr style=\"text-align: right;\">\n",
       "      <th></th>\n",
       "      <th>0</th>\n",
       "      <th>1</th>\n",
       "      <th>2</th>\n",
       "    </tr>\n",
       "  </thead>\n",
       "  <tbody>\n",
       "    <tr>\n",
       "      <th>0</th>\n",
       "      <td>1</td>\n",
       "      <td>2</td>\n",
       "      <td>3</td>\n",
       "    </tr>\n",
       "    <tr>\n",
       "      <th>1</th>\n",
       "      <td>4</td>\n",
       "      <td>5</td>\n",
       "      <td>6</td>\n",
       "    </tr>\n",
       "    <tr>\n",
       "      <th>2</th>\n",
       "      <td>7</td>\n",
       "      <td>8</td>\n",
       "      <td>9</td>\n",
       "    </tr>\n",
       "  </tbody>\n",
       "</table>\n",
       "</div>"
      ],
      "text/plain": [
       "   0  1  2\n",
       "0  1  2  3\n",
       "1  4  5  6\n",
       "2  7  8  9"
      ]
     },
     "execution_count": 78,
     "metadata": {},
     "output_type": "execute_result"
    }
   ],
   "source": [
    "# List 이용\n",
    "df1 = pd.DataFrame([[1, 2, 3], [4, 5, 6], [7, 8, 9]])\n",
    "df1"
   ]
  },
  {
   "cell_type": "code",
   "execution_count": 79,
   "id": "89e0c91f",
   "metadata": {},
   "outputs": [
    {
     "data": {
      "text/html": [
       "<div>\n",
       "<style scoped>\n",
       "    .dataframe tbody tr th:only-of-type {\n",
       "        vertical-align: middle;\n",
       "    }\n",
       "\n",
       "    .dataframe tbody tr th {\n",
       "        vertical-align: top;\n",
       "    }\n",
       "\n",
       "    .dataframe thead th {\n",
       "        text-align: right;\n",
       "    }\n",
       "</style>\n",
       "<table border=\"1\" class=\"dataframe\">\n",
       "  <thead>\n",
       "    <tr style=\"text-align: right;\">\n",
       "      <th></th>\n",
       "      <th>age</th>\n",
       "      <th>height</th>\n",
       "      <th>weight</th>\n",
       "      <th>gender</th>\n",
       "    </tr>\n",
       "  </thead>\n",
       "  <tbody>\n",
       "    <tr>\n",
       "      <th>A</th>\n",
       "      <td>20</td>\n",
       "      <td>183</td>\n",
       "      <td>77</td>\n",
       "      <td>M</td>\n",
       "    </tr>\n",
       "    <tr>\n",
       "      <th>B</th>\n",
       "      <td>23</td>\n",
       "      <td>192</td>\n",
       "      <td>83</td>\n",
       "      <td>M</td>\n",
       "    </tr>\n",
       "    <tr>\n",
       "      <th>C</th>\n",
       "      <td>48</td>\n",
       "      <td>175</td>\n",
       "      <td>65</td>\n",
       "      <td>F</td>\n",
       "    </tr>\n",
       "  </tbody>\n",
       "</table>\n",
       "</div>"
      ],
      "text/plain": [
       "   age  height  weight gender\n",
       "A   20     183      77      M\n",
       "B   23     192      83      M\n",
       "C   48     175      65      F"
      ]
     },
     "execution_count": 79,
     "metadata": {},
     "output_type": "execute_result"
    }
   ],
   "source": [
    "# dictionary 이용\n",
    "\n",
    "data = {   # dictionary 생성\n",
    "    'age' : [20, 23, 48],\n",
    "    'height' : [183, 192, 175],\n",
    "    'weight' : [77, 83, 65],\n",
    "    'gender' : [\"M\", \"M\", \"F\"]  # character vector\n",
    "}\n",
    "\n",
    "indexName = ['A', 'B', 'C'] #index 생성\n",
    "\n",
    "df2 = pd.DataFrame(data, index = indexName)\n",
    "df2"
   ]
  },
  {
   "cell_type": "code",
   "execution_count": 80,
   "id": "f47c41c6",
   "metadata": {},
   "outputs": [
    {
     "data": {
      "text/html": [
       "<div>\n",
       "<style scoped>\n",
       "    .dataframe tbody tr th:only-of-type {\n",
       "        vertical-align: middle;\n",
       "    }\n",
       "\n",
       "    .dataframe tbody tr th {\n",
       "        vertical-align: top;\n",
       "    }\n",
       "\n",
       "    .dataframe thead th {\n",
       "        text-align: right;\n",
       "    }\n",
       "</style>\n",
       "<table border=\"1\" class=\"dataframe\">\n",
       "  <thead>\n",
       "    <tr style=\"text-align: right;\">\n",
       "      <th></th>\n",
       "      <th>col1</th>\n",
       "      <th>col2</th>\n",
       "      <th>col3</th>\n",
       "    </tr>\n",
       "  </thead>\n",
       "  <tbody>\n",
       "    <tr>\n",
       "      <th>0</th>\n",
       "      <td>1</td>\n",
       "      <td>2</td>\n",
       "      <td>A</td>\n",
       "    </tr>\n",
       "    <tr>\n",
       "      <th>1</th>\n",
       "      <td>2</td>\n",
       "      <td>4</td>\n",
       "      <td>B</td>\n",
       "    </tr>\n",
       "    <tr>\n",
       "      <th>2</th>\n",
       "      <td>3</td>\n",
       "      <td>6</td>\n",
       "      <td>C</td>\n",
       "    </tr>\n",
       "    <tr>\n",
       "      <th>3</th>\n",
       "      <td>4</td>\n",
       "      <td>8</td>\n",
       "      <td>D</td>\n",
       "    </tr>\n",
       "    <tr>\n",
       "      <th>4</th>\n",
       "      <td>5</td>\n",
       "      <td>10</td>\n",
       "      <td>E</td>\n",
       "    </tr>\n",
       "  </tbody>\n",
       "</table>\n",
       "</div>"
      ],
      "text/plain": [
       "   col1  col2 col3\n",
       "0     1     2    A\n",
       "1     2     4    B\n",
       "2     3     6    C\n",
       "3     4     8    D\n",
       "4     5    10    E"
      ]
     },
     "execution_count": 80,
     "metadata": {},
     "output_type": "execute_result"
    }
   ],
   "source": [
    "# array 이용\n",
    "\n",
    "sample_array = np.array([1, 2, 3, 4, 5])  # array 생성\n",
    "\n",
    "df3 = pd.DataFrame({\n",
    "    'col1' : sample_array,\n",
    "    'col2' : sample_array * 2,\n",
    "    'col3' : ['A', 'B', 'C', 'D', 'E']\n",
    "})\n",
    "\n",
    "df3"
   ]
  },
  {
   "cell_type": "markdown",
   "id": "b66173b9",
   "metadata": {},
   "source": [
    "- 난수(random number)를 발생하여 DataFrame을 생성해보자\n",
    "- 이는 numpy에서 제공하는 np.random 모듈의 기능을 이용한다."
   ]
  },
  {
   "cell_type": "markdown",
   "id": "1a0ed14d",
   "metadata": {},
   "source": [
    "- np.random.rand: 0부터 1 사이의 균일분포\n",
    "- np.random.randn: 가우시안 표준 정규 분포\n",
    "- np.random.randint: 균일 분포의 정수 난수 (np.random.randint(low, high, size))"
   ]
  },
  {
   "cell_type": "code",
   "execution_count": 81,
   "id": "2802ccee",
   "metadata": {},
   "outputs": [
    {
     "data": {
      "text/html": [
       "<div>\n",
       "<style scoped>\n",
       "    .dataframe tbody tr th:only-of-type {\n",
       "        vertical-align: middle;\n",
       "    }\n",
       "\n",
       "    .dataframe tbody tr th {\n",
       "        vertical-align: top;\n",
       "    }\n",
       "\n",
       "    .dataframe thead th {\n",
       "        text-align: right;\n",
       "    }\n",
       "</style>\n",
       "<table border=\"1\" class=\"dataframe\">\n",
       "  <thead>\n",
       "    <tr style=\"text-align: right;\">\n",
       "      <th></th>\n",
       "      <th>0</th>\n",
       "      <th>1</th>\n",
       "      <th>2</th>\n",
       "      <th>3</th>\n",
       "      <th>4</th>\n",
       "    </tr>\n",
       "  </thead>\n",
       "  <tbody>\n",
       "    <tr>\n",
       "      <th>0</th>\n",
       "      <td>6</td>\n",
       "      <td>5</td>\n",
       "      <td>1</td>\n",
       "      <td>5</td>\n",
       "      <td>7</td>\n",
       "    </tr>\n",
       "    <tr>\n",
       "      <th>1</th>\n",
       "      <td>7</td>\n",
       "      <td>5</td>\n",
       "      <td>9</td>\n",
       "      <td>5</td>\n",
       "      <td>3</td>\n",
       "    </tr>\n",
       "    <tr>\n",
       "      <th>2</th>\n",
       "      <td>9</td>\n",
       "      <td>8</td>\n",
       "      <td>3</td>\n",
       "      <td>9</td>\n",
       "      <td>9</td>\n",
       "    </tr>\n",
       "  </tbody>\n",
       "</table>\n",
       "</div>"
      ],
      "text/plain": [
       "   0  1  2  3  4\n",
       "0  6  5  1  5  7\n",
       "1  7  5  9  5  3\n",
       "2  9  8  3  9  9"
      ]
     },
     "execution_count": 81,
     "metadata": {},
     "output_type": "execute_result"
    }
   ],
   "source": [
    "# seed 설정\n",
    "np.random.seed(22)\n",
    "\n",
    "# 난수 생성\n",
    "df = pd.DataFrame(np.random.randint(1, 10, size = (3, 5)))\n",
    "df"
   ]
  },
  {
   "cell_type": "markdown",
   "id": "1394d886",
   "metadata": {},
   "source": [
    "### indexing\n",
    "- 데이터 프레임의 크기가 커질 경우 원하는 조건에 해당하는 데이터만을 추출하고 가공하는 과정이 필요하다.\n",
    "\n",
    "|Operation|Syntax|Result|\n",
    "|------|---|---|\n",
    "|Select Column|df[col]|Series|\n",
    "|Select Row by Label|df.loc[label]|Series|\n",
    "|Select Row by Integer Location|df.iloc[idx]|Series|\n",
    "|Slice rows|df[5:10]|DataFrame|\n",
    "|Select rows by boolean|df[mask]|DataFrame|"
   ]
  },
  {
   "cell_type": "markdown",
   "id": "277463dd",
   "metadata": {},
   "source": [
    "- DataFrame에서 자주 이용하는 method\n",
    "    - .head()\n",
    "    - .info()\n",
    "    - .shape()"
   ]
  },
  {
   "cell_type": "code",
   "execution_count": 11,
   "id": "645eb22e",
   "metadata": {},
   "outputs": [
    {
     "data": {
      "text/html": [
       "<div>\n",
       "<style scoped>\n",
       "    .dataframe tbody tr th:only-of-type {\n",
       "        vertical-align: middle;\n",
       "    }\n",
       "\n",
       "    .dataframe tbody tr th {\n",
       "        vertical-align: top;\n",
       "    }\n",
       "\n",
       "    .dataframe thead th {\n",
       "        text-align: right;\n",
       "    }\n",
       "</style>\n",
       "<table border=\"1\" class=\"dataframe\">\n",
       "  <thead>\n",
       "    <tr style=\"text-align: right;\">\n",
       "      <th></th>\n",
       "      <th>A</th>\n",
       "      <th>B</th>\n",
       "      <th>C</th>\n",
       "      <th>D</th>\n",
       "      <th>E</th>\n",
       "    </tr>\n",
       "  </thead>\n",
       "  <tbody>\n",
       "    <tr>\n",
       "      <th>a</th>\n",
       "      <td>16</td>\n",
       "      <td>13</td>\n",
       "      <td>11</td>\n",
       "      <td>19</td>\n",
       "      <td>18</td>\n",
       "    </tr>\n",
       "    <tr>\n",
       "      <th>b</th>\n",
       "      <td>14</td>\n",
       "      <td>14</td>\n",
       "      <td>13</td>\n",
       "      <td>15</td>\n",
       "      <td>17</td>\n",
       "    </tr>\n",
       "    <tr>\n",
       "      <th>c</th>\n",
       "      <td>20</td>\n",
       "      <td>13</td>\n",
       "      <td>18</td>\n",
       "      <td>20</td>\n",
       "      <td>16</td>\n",
       "    </tr>\n",
       "    <tr>\n",
       "      <th>d</th>\n",
       "      <td>18</td>\n",
       "      <td>21</td>\n",
       "      <td>16</td>\n",
       "      <td>13</td>\n",
       "      <td>21</td>\n",
       "    </tr>\n",
       "  </tbody>\n",
       "</table>\n",
       "</div>"
      ],
      "text/plain": [
       "    A   B   C   D   E\n",
       "a  16  13  11  19  18\n",
       "b  14  14  13  15  17\n",
       "c  20  13  18  20  16\n",
       "d  18  21  16  13  21"
      ]
     },
     "execution_count": 11,
     "metadata": {},
     "output_type": "execute_result"
    }
   ],
   "source": [
    "import pandas as pd\n",
    "import numpy as np\n",
    "\n",
    "np.random.seed(1886)\n",
    "\n",
    "df = pd.DataFrame(np.random.randint(10, 22, size=(4, 5)),\n",
    "                  index=[\"a\", \"b\", \"c\", \"d\"],\n",
    "                  columns=['A', 'B', 'C', 'D', 'E'])\n",
    "df"
   ]
  },
  {
   "cell_type": "code",
   "execution_count": 82,
   "id": "e08615cb",
   "metadata": {},
   "outputs": [
    {
     "data": {
      "text/html": [
       "<div>\n",
       "<style scoped>\n",
       "    .dataframe tbody tr th:only-of-type {\n",
       "        vertical-align: middle;\n",
       "    }\n",
       "\n",
       "    .dataframe tbody tr th {\n",
       "        vertical-align: top;\n",
       "    }\n",
       "\n",
       "    .dataframe thead th {\n",
       "        text-align: right;\n",
       "    }\n",
       "</style>\n",
       "<table border=\"1\" class=\"dataframe\">\n",
       "  <thead>\n",
       "    <tr style=\"text-align: right;\">\n",
       "      <th></th>\n",
       "      <th>0</th>\n",
       "      <th>1</th>\n",
       "      <th>2</th>\n",
       "      <th>3</th>\n",
       "      <th>4</th>\n",
       "    </tr>\n",
       "  </thead>\n",
       "  <tbody>\n",
       "    <tr>\n",
       "      <th>0</th>\n",
       "      <td>6</td>\n",
       "      <td>5</td>\n",
       "      <td>1</td>\n",
       "      <td>5</td>\n",
       "      <td>7</td>\n",
       "    </tr>\n",
       "    <tr>\n",
       "      <th>1</th>\n",
       "      <td>7</td>\n",
       "      <td>5</td>\n",
       "      <td>9</td>\n",
       "      <td>5</td>\n",
       "      <td>3</td>\n",
       "    </tr>\n",
       "    <tr>\n",
       "      <th>2</th>\n",
       "      <td>9</td>\n",
       "      <td>8</td>\n",
       "      <td>3</td>\n",
       "      <td>9</td>\n",
       "      <td>9</td>\n",
       "    </tr>\n",
       "  </tbody>\n",
       "</table>\n",
       "</div>"
      ],
      "text/plain": [
       "   0  1  2  3  4\n",
       "0  6  5  1  5  7\n",
       "1  7  5  9  5  3\n",
       "2  9  8  3  9  9"
      ]
     },
     "execution_count": 82,
     "metadata": {},
     "output_type": "execute_result"
    }
   ],
   "source": [
    "df.head(n=3)"
   ]
  },
  {
   "cell_type": "code",
   "execution_count": 83,
   "id": "4ef07749",
   "metadata": {},
   "outputs": [
    {
     "name": "stdout",
     "output_type": "stream",
     "text": [
      "<class 'pandas.core.frame.DataFrame'>\n",
      "RangeIndex: 3 entries, 0 to 2\n",
      "Data columns (total 5 columns):\n",
      " #   Column  Non-Null Count  Dtype\n",
      "---  ------  --------------  -----\n",
      " 0   0       3 non-null      int32\n",
      " 1   1       3 non-null      int32\n",
      " 2   2       3 non-null      int32\n",
      " 3   3       3 non-null      int32\n",
      " 4   4       3 non-null      int32\n",
      "dtypes: int32(5)\n",
      "memory usage: 192.0 bytes\n"
     ]
    }
   ],
   "source": [
    "df.info()"
   ]
  },
  {
   "cell_type": "code",
   "execution_count": 84,
   "id": "950fcf42",
   "metadata": {},
   "outputs": [
    {
     "data": {
      "text/plain": [
       "(3, 5)"
      ]
     },
     "execution_count": 84,
     "metadata": {},
     "output_type": "execute_result"
    }
   ],
   "source": [
    "df.shape"
   ]
  },
  {
   "cell_type": "markdown",
   "id": "3ef392ed",
   "metadata": {},
   "source": [
    "### indexting - df[]\n",
    "- 대괄호를 이용하여 열을 추출하기 위해선 [] 안에 추출하고자하는 컬럼명을 입력한다."
   ]
  },
  {
   "cell_type": "code",
   "execution_count": 90,
   "id": "98c5898b",
   "metadata": {},
   "outputs": [
    {
     "data": {
      "text/plain": [
       "a    16\n",
       "b    14\n",
       "c    20\n",
       "d    18\n",
       "Name: A, dtype: int32"
      ]
     },
     "execution_count": 90,
     "metadata": {},
     "output_type": "execute_result"
    }
   ],
   "source": [
    "df['A']"
   ]
  },
  {
   "cell_type": "markdown",
   "id": "7aa8b91a",
   "metadata": {},
   "source": [
    "- 복수의 열을 추출하는 것도 가능하다. 이때, 컬럼명을 리스트 형식으로 넣어준다."
   ]
  },
  {
   "cell_type": "code",
   "execution_count": 91,
   "id": "30013658",
   "metadata": {},
   "outputs": [
    {
     "data": {
      "text/html": [
       "<div>\n",
       "<style scoped>\n",
       "    .dataframe tbody tr th:only-of-type {\n",
       "        vertical-align: middle;\n",
       "    }\n",
       "\n",
       "    .dataframe tbody tr th {\n",
       "        vertical-align: top;\n",
       "    }\n",
       "\n",
       "    .dataframe thead th {\n",
       "        text-align: right;\n",
       "    }\n",
       "</style>\n",
       "<table border=\"1\" class=\"dataframe\">\n",
       "  <thead>\n",
       "    <tr style=\"text-align: right;\">\n",
       "      <th></th>\n",
       "      <th>A</th>\n",
       "      <th>C</th>\n",
       "    </tr>\n",
       "  </thead>\n",
       "  <tbody>\n",
       "    <tr>\n",
       "      <th>a</th>\n",
       "      <td>16</td>\n",
       "      <td>11</td>\n",
       "    </tr>\n",
       "    <tr>\n",
       "      <th>b</th>\n",
       "      <td>14</td>\n",
       "      <td>13</td>\n",
       "    </tr>\n",
       "    <tr>\n",
       "      <th>c</th>\n",
       "      <td>20</td>\n",
       "      <td>18</td>\n",
       "    </tr>\n",
       "    <tr>\n",
       "      <th>d</th>\n",
       "      <td>18</td>\n",
       "      <td>16</td>\n",
       "    </tr>\n",
       "  </tbody>\n",
       "</table>\n",
       "</div>"
      ],
      "text/plain": [
       "    A   C\n",
       "a  16  11\n",
       "b  14  13\n",
       "c  20  18\n",
       "d  18  16"
      ]
     },
     "execution_count": 91,
     "metadata": {},
     "output_type": "execute_result"
    }
   ],
   "source": [
    "df[[\"A\", \"C\"]]"
   ]
  },
  {
   "cell_type": "markdown",
   "id": "16c2cc19",
   "metadata": {},
   "source": [
    "- 지정한 열만 뺴고 데이터를 추출하는 방법"
   ]
  },
  {
   "cell_type": "code",
   "execution_count": 92,
   "id": "53f25d69",
   "metadata": {},
   "outputs": [
    {
     "data": {
      "text/html": [
       "<div>\n",
       "<style scoped>\n",
       "    .dataframe tbody tr th:only-of-type {\n",
       "        vertical-align: middle;\n",
       "    }\n",
       "\n",
       "    .dataframe tbody tr th {\n",
       "        vertical-align: top;\n",
       "    }\n",
       "\n",
       "    .dataframe thead th {\n",
       "        text-align: right;\n",
       "    }\n",
       "</style>\n",
       "<table border=\"1\" class=\"dataframe\">\n",
       "  <thead>\n",
       "    <tr style=\"text-align: right;\">\n",
       "      <th></th>\n",
       "      <th>B</th>\n",
       "      <th>C</th>\n",
       "      <th>D</th>\n",
       "      <th>E</th>\n",
       "    </tr>\n",
       "  </thead>\n",
       "  <tbody>\n",
       "    <tr>\n",
       "      <th>a</th>\n",
       "      <td>13</td>\n",
       "      <td>11</td>\n",
       "      <td>19</td>\n",
       "      <td>18</td>\n",
       "    </tr>\n",
       "    <tr>\n",
       "      <th>b</th>\n",
       "      <td>14</td>\n",
       "      <td>13</td>\n",
       "      <td>15</td>\n",
       "      <td>17</td>\n",
       "    </tr>\n",
       "    <tr>\n",
       "      <th>c</th>\n",
       "      <td>13</td>\n",
       "      <td>18</td>\n",
       "      <td>20</td>\n",
       "      <td>16</td>\n",
       "    </tr>\n",
       "    <tr>\n",
       "      <th>d</th>\n",
       "      <td>21</td>\n",
       "      <td>16</td>\n",
       "      <td>13</td>\n",
       "      <td>21</td>\n",
       "    </tr>\n",
       "  </tbody>\n",
       "</table>\n",
       "</div>"
      ],
      "text/plain": [
       "    B   C   D   E\n",
       "a  13  11  19  18\n",
       "b  14  13  15  17\n",
       "c  13  18  20  16\n",
       "d  21  16  13  21"
      ]
     },
     "execution_count": 92,
     "metadata": {},
     "output_type": "execute_result"
    }
   ],
   "source": [
    "df.drop(\"A\", axis = 1)"
   ]
  },
  {
   "cell_type": "markdown",
   "id": "e71641b1",
   "metadata": {},
   "source": [
    "- 조건문을 이용하여 데이터를 추출"
   ]
  },
  {
   "cell_type": "code",
   "execution_count": 93,
   "id": "7e66fab2",
   "metadata": {},
   "outputs": [
    {
     "data": {
      "text/html": [
       "<div>\n",
       "<style scoped>\n",
       "    .dataframe tbody tr th:only-of-type {\n",
       "        vertical-align: middle;\n",
       "    }\n",
       "\n",
       "    .dataframe tbody tr th {\n",
       "        vertical-align: top;\n",
       "    }\n",
       "\n",
       "    .dataframe thead th {\n",
       "        text-align: right;\n",
       "    }\n",
       "</style>\n",
       "<table border=\"1\" class=\"dataframe\">\n",
       "  <thead>\n",
       "    <tr style=\"text-align: right;\">\n",
       "      <th></th>\n",
       "      <th>A</th>\n",
       "      <th>B</th>\n",
       "      <th>C</th>\n",
       "      <th>D</th>\n",
       "      <th>E</th>\n",
       "    </tr>\n",
       "  </thead>\n",
       "  <tbody>\n",
       "    <tr>\n",
       "      <th>a</th>\n",
       "      <td>16</td>\n",
       "      <td>13</td>\n",
       "      <td>11</td>\n",
       "      <td>19</td>\n",
       "      <td>18</td>\n",
       "    </tr>\n",
       "    <tr>\n",
       "      <th>c</th>\n",
       "      <td>20</td>\n",
       "      <td>13</td>\n",
       "      <td>18</td>\n",
       "      <td>20</td>\n",
       "      <td>16</td>\n",
       "    </tr>\n",
       "    <tr>\n",
       "      <th>d</th>\n",
       "      <td>18</td>\n",
       "      <td>21</td>\n",
       "      <td>16</td>\n",
       "      <td>13</td>\n",
       "      <td>21</td>\n",
       "    </tr>\n",
       "  </tbody>\n",
       "</table>\n",
       "</div>"
      ],
      "text/plain": [
       "    A   B   C   D   E\n",
       "a  16  13  11  19  18\n",
       "c  20  13  18  20  16\n",
       "d  18  21  16  13  21"
      ]
     },
     "execution_count": 93,
     "metadata": {},
     "output_type": "execute_result"
    }
   ],
   "source": [
    "df[df[\"A\"] > 15]"
   ]
  },
  {
   "cell_type": "markdown",
   "id": "ceb0b579",
   "metadata": {},
   "source": [
    "- 조건이 2개 이상인 경우도 가능하다.\n",
    "    - 조건을 둘 다 만족해야할 때 (and): df[(조건1) & (조건2)]\n",
    "    - 조건 중 하나라도 만족하면 될 때 (or): |df[(조건1) | (조건2)]"
   ]
  },
  {
   "cell_type": "code",
   "execution_count": 94,
   "id": "f81a8d89",
   "metadata": {},
   "outputs": [
    {
     "data": {
      "text/html": [
       "<div>\n",
       "<style scoped>\n",
       "    .dataframe tbody tr th:only-of-type {\n",
       "        vertical-align: middle;\n",
       "    }\n",
       "\n",
       "    .dataframe tbody tr th {\n",
       "        vertical-align: top;\n",
       "    }\n",
       "\n",
       "    .dataframe thead th {\n",
       "        text-align: right;\n",
       "    }\n",
       "</style>\n",
       "<table border=\"1\" class=\"dataframe\">\n",
       "  <thead>\n",
       "    <tr style=\"text-align: right;\">\n",
       "      <th></th>\n",
       "      <th>A</th>\n",
       "      <th>B</th>\n",
       "      <th>C</th>\n",
       "      <th>D</th>\n",
       "      <th>E</th>\n",
       "    </tr>\n",
       "  </thead>\n",
       "  <tbody>\n",
       "    <tr>\n",
       "      <th>a</th>\n",
       "      <td>16</td>\n",
       "      <td>13</td>\n",
       "      <td>11</td>\n",
       "      <td>19</td>\n",
       "      <td>18</td>\n",
       "    </tr>\n",
       "    <tr>\n",
       "      <th>c</th>\n",
       "      <td>20</td>\n",
       "      <td>13</td>\n",
       "      <td>18</td>\n",
       "      <td>20</td>\n",
       "      <td>16</td>\n",
       "    </tr>\n",
       "    <tr>\n",
       "      <th>d</th>\n",
       "      <td>18</td>\n",
       "      <td>21</td>\n",
       "      <td>16</td>\n",
       "      <td>13</td>\n",
       "      <td>21</td>\n",
       "    </tr>\n",
       "  </tbody>\n",
       "</table>\n",
       "</div>"
      ],
      "text/plain": [
       "    A   B   C   D   E\n",
       "a  16  13  11  19  18\n",
       "c  20  13  18  20  16\n",
       "d  18  21  16  13  21"
      ]
     },
     "execution_count": 94,
     "metadata": {},
     "output_type": "execute_result"
    }
   ],
   "source": [
    "df[(df[\"A\"] > 15) | (df[\"B\"] > 17)]"
   ]
  },
  {
   "cell_type": "markdown",
   "id": "5f94aabc",
   "metadata": {},
   "source": [
    "### indexing - df.query()\n",
    "- query method를 이용하여 데이터를 추출"
   ]
  },
  {
   "cell_type": "code",
   "execution_count": 95,
   "id": "9f77ef40",
   "metadata": {},
   "outputs": [
    {
     "data": {
      "text/html": [
       "<div>\n",
       "<style scoped>\n",
       "    .dataframe tbody tr th:only-of-type {\n",
       "        vertical-align: middle;\n",
       "    }\n",
       "\n",
       "    .dataframe tbody tr th {\n",
       "        vertical-align: top;\n",
       "    }\n",
       "\n",
       "    .dataframe thead th {\n",
       "        text-align: right;\n",
       "    }\n",
       "</style>\n",
       "<table border=\"1\" class=\"dataframe\">\n",
       "  <thead>\n",
       "    <tr style=\"text-align: right;\">\n",
       "      <th></th>\n",
       "      <th>A</th>\n",
       "      <th>B</th>\n",
       "      <th>C</th>\n",
       "      <th>D</th>\n",
       "      <th>E</th>\n",
       "    </tr>\n",
       "  </thead>\n",
       "  <tbody>\n",
       "    <tr>\n",
       "      <th>a</th>\n",
       "      <td>16</td>\n",
       "      <td>13</td>\n",
       "      <td>11</td>\n",
       "      <td>19</td>\n",
       "      <td>18</td>\n",
       "    </tr>\n",
       "  </tbody>\n",
       "</table>\n",
       "</div>"
      ],
      "text/plain": [
       "    A   B   C   D   E\n",
       "a  16  13  11  19  18"
      ]
     },
     "execution_count": 95,
     "metadata": {},
     "output_type": "execute_result"
    }
   ],
   "source": [
    "df.query('index == \"a\"')"
   ]
  },
  {
   "cell_type": "markdown",
   "id": "3421df83",
   "metadata": {},
   "source": [
    "- query 함수를 이용하여 조건을 지정해 데이터를 추출할 수 있다."
   ]
  },
  {
   "cell_type": "code",
   "execution_count": 96,
   "id": "da5649bd",
   "metadata": {},
   "outputs": [
    {
     "data": {
      "text/html": [
       "<div>\n",
       "<style scoped>\n",
       "    .dataframe tbody tr th:only-of-type {\n",
       "        vertical-align: middle;\n",
       "    }\n",
       "\n",
       "    .dataframe tbody tr th {\n",
       "        vertical-align: top;\n",
       "    }\n",
       "\n",
       "    .dataframe thead th {\n",
       "        text-align: right;\n",
       "    }\n",
       "</style>\n",
       "<table border=\"1\" class=\"dataframe\">\n",
       "  <thead>\n",
       "    <tr style=\"text-align: right;\">\n",
       "      <th></th>\n",
       "      <th>A</th>\n",
       "      <th>B</th>\n",
       "      <th>C</th>\n",
       "      <th>D</th>\n",
       "      <th>E</th>\n",
       "    </tr>\n",
       "  </thead>\n",
       "  <tbody>\n",
       "    <tr>\n",
       "      <th>b</th>\n",
       "      <td>14</td>\n",
       "      <td>14</td>\n",
       "      <td>13</td>\n",
       "      <td>15</td>\n",
       "      <td>17</td>\n",
       "    </tr>\n",
       "  </tbody>\n",
       "</table>\n",
       "</div>"
      ],
      "text/plain": [
       "    A   B   C   D   E\n",
       "b  14  14  13  15  17"
      ]
     },
     "execution_count": 96,
     "metadata": {},
     "output_type": "execute_result"
    }
   ],
   "source": [
    "df.query('C == 13')"
   ]
  },
  {
   "cell_type": "code",
   "execution_count": 97,
   "id": "1eb6772a",
   "metadata": {},
   "outputs": [
    {
     "data": {
      "text/html": [
       "<div>\n",
       "<style scoped>\n",
       "    .dataframe tbody tr th:only-of-type {\n",
       "        vertical-align: middle;\n",
       "    }\n",
       "\n",
       "    .dataframe tbody tr th {\n",
       "        vertical-align: top;\n",
       "    }\n",
       "\n",
       "    .dataframe thead th {\n",
       "        text-align: right;\n",
       "    }\n",
       "</style>\n",
       "<table border=\"1\" class=\"dataframe\">\n",
       "  <thead>\n",
       "    <tr style=\"text-align: right;\">\n",
       "      <th></th>\n",
       "      <th>A</th>\n",
       "      <th>B</th>\n",
       "      <th>C</th>\n",
       "      <th>D</th>\n",
       "      <th>E</th>\n",
       "    </tr>\n",
       "  </thead>\n",
       "  <tbody>\n",
       "    <tr>\n",
       "      <th>b</th>\n",
       "      <td>14</td>\n",
       "      <td>14</td>\n",
       "      <td>13</td>\n",
       "      <td>15</td>\n",
       "      <td>17</td>\n",
       "    </tr>\n",
       "    <tr>\n",
       "      <th>c</th>\n",
       "      <td>20</td>\n",
       "      <td>13</td>\n",
       "      <td>18</td>\n",
       "      <td>20</td>\n",
       "      <td>16</td>\n",
       "    </tr>\n",
       "  </tbody>\n",
       "</table>\n",
       "</div>"
      ],
      "text/plain": [
       "    A   B   C   D   E\n",
       "b  14  14  13  15  17\n",
       "c  20  13  18  20  16"
      ]
     },
     "execution_count": 97,
     "metadata": {},
     "output_type": "execute_result"
    }
   ],
   "source": [
    "# OR 연산자\n",
    "df.query('A == 14 | D == 20' )"
   ]
  },
  {
   "cell_type": "code",
   "execution_count": 98,
   "id": "242793a4",
   "metadata": {},
   "outputs": [
    {
     "data": {
      "text/html": [
       "<div>\n",
       "<style scoped>\n",
       "    .dataframe tbody tr th:only-of-type {\n",
       "        vertical-align: middle;\n",
       "    }\n",
       "\n",
       "    .dataframe tbody tr th {\n",
       "        vertical-align: top;\n",
       "    }\n",
       "\n",
       "    .dataframe thead th {\n",
       "        text-align: right;\n",
       "    }\n",
       "</style>\n",
       "<table border=\"1\" class=\"dataframe\">\n",
       "  <thead>\n",
       "    <tr style=\"text-align: right;\">\n",
       "      <th></th>\n",
       "      <th>A</th>\n",
       "      <th>B</th>\n",
       "      <th>C</th>\n",
       "      <th>D</th>\n",
       "      <th>E</th>\n",
       "    </tr>\n",
       "  </thead>\n",
       "  <tbody>\n",
       "  </tbody>\n",
       "</table>\n",
       "</div>"
      ],
      "text/plain": [
       "Empty DataFrame\n",
       "Columns: [A, B, C, D, E]\n",
       "Index: []"
      ]
     },
     "execution_count": 98,
     "metadata": {},
     "output_type": "execute_result"
    }
   ],
   "source": [
    "# AND 연산자\n",
    "df.query('B == 13 & index == \"C\"')"
   ]
  },
  {
   "cell_type": "markdown",
   "id": "4a86fcd1",
   "metadata": {},
   "source": [
    "### indexing - df.loc\n",
    "- loc는 주로 label를 기반으로 이용하며 허용되는 input은 다음과 같다.\n",
    "    - A single label\n",
    "    - A list of labels\n",
    "    - A boolean array\n",
    "- loc를 사용하는 경우 인덱스를 하나만 넣으면 행(row)을 선택"
   ]
  },
  {
   "cell_type": "code",
   "execution_count": 99,
   "id": "687d6d9b",
   "metadata": {},
   "outputs": [
    {
     "data": {
      "text/plain": [
       "A    16\n",
       "B    13\n",
       "C    11\n",
       "D    19\n",
       "E    18\n",
       "Name: a, dtype: int32"
      ]
     },
     "execution_count": 99,
     "metadata": {},
     "output_type": "execute_result"
    }
   ],
   "source": [
    "df.loc[\"a\"]"
   ]
  },
  {
   "cell_type": "code",
   "execution_count": 101,
   "id": "3308ed7a",
   "metadata": {},
   "outputs": [
    {
     "data": {
      "text/html": [
       "<div>\n",
       "<style scoped>\n",
       "    .dataframe tbody tr th:only-of-type {\n",
       "        vertical-align: middle;\n",
       "    }\n",
       "\n",
       "    .dataframe tbody tr th {\n",
       "        vertical-align: top;\n",
       "    }\n",
       "\n",
       "    .dataframe thead th {\n",
       "        text-align: right;\n",
       "    }\n",
       "</style>\n",
       "<table border=\"1\" class=\"dataframe\">\n",
       "  <thead>\n",
       "    <tr style=\"text-align: right;\">\n",
       "      <th></th>\n",
       "      <th>A</th>\n",
       "      <th>B</th>\n",
       "      <th>C</th>\n",
       "      <th>D</th>\n",
       "      <th>E</th>\n",
       "    </tr>\n",
       "  </thead>\n",
       "  <tbody>\n",
       "    <tr>\n",
       "      <th>a</th>\n",
       "      <td>16</td>\n",
       "      <td>13</td>\n",
       "      <td>11</td>\n",
       "      <td>19</td>\n",
       "      <td>18</td>\n",
       "    </tr>\n",
       "    <tr>\n",
       "      <th>d</th>\n",
       "      <td>18</td>\n",
       "      <td>21</td>\n",
       "      <td>16</td>\n",
       "      <td>13</td>\n",
       "      <td>21</td>\n",
       "    </tr>\n",
       "  </tbody>\n",
       "</table>\n",
       "</div>"
      ],
      "text/plain": [
       "    A   B   C   D   E\n",
       "a  16  13  11  19  18\n",
       "d  18  21  16  13  21"
      ]
     },
     "execution_count": 101,
     "metadata": {},
     "output_type": "execute_result"
    }
   ],
   "source": [
    "df.loc[[\"a\", \"d\"]]"
   ]
  },
  {
   "cell_type": "code",
   "execution_count": 103,
   "id": "99d9d8f3",
   "metadata": {},
   "outputs": [
    {
     "data": {
      "text/html": [
       "<div>\n",
       "<style scoped>\n",
       "    .dataframe tbody tr th:only-of-type {\n",
       "        vertical-align: middle;\n",
       "    }\n",
       "\n",
       "    .dataframe tbody tr th {\n",
       "        vertical-align: top;\n",
       "    }\n",
       "\n",
       "    .dataframe thead th {\n",
       "        text-align: right;\n",
       "    }\n",
       "</style>\n",
       "<table border=\"1\" class=\"dataframe\">\n",
       "  <thead>\n",
       "    <tr style=\"text-align: right;\">\n",
       "      <th></th>\n",
       "      <th>A</th>\n",
       "      <th>B</th>\n",
       "      <th>C</th>\n",
       "      <th>D</th>\n",
       "      <th>E</th>\n",
       "    </tr>\n",
       "  </thead>\n",
       "  <tbody>\n",
       "  </tbody>\n",
       "</table>\n",
       "</div>"
      ],
      "text/plain": [
       "Empty DataFrame\n",
       "Columns: [A, B, C, D, E]\n",
       "Index: []"
      ]
     },
     "execution_count": 103,
     "metadata": {},
     "output_type": "execute_result"
    }
   ],
   "source": [
    "df.loc[\"b\" : \"C\"]"
   ]
  },
  {
   "cell_type": "markdown",
   "id": "e51e97c0",
   "metadata": {},
   "source": [
    "- loc를 이용하여 조건문을 넣을 수 있다."
   ]
  },
  {
   "cell_type": "code",
   "execution_count": 104,
   "id": "ae865f20",
   "metadata": {},
   "outputs": [
    {
     "data": {
      "text/html": [
       "<div>\n",
       "<style scoped>\n",
       "    .dataframe tbody tr th:only-of-type {\n",
       "        vertical-align: middle;\n",
       "    }\n",
       "\n",
       "    .dataframe tbody tr th {\n",
       "        vertical-align: top;\n",
       "    }\n",
       "\n",
       "    .dataframe thead th {\n",
       "        text-align: right;\n",
       "    }\n",
       "</style>\n",
       "<table border=\"1\" class=\"dataframe\">\n",
       "  <thead>\n",
       "    <tr style=\"text-align: right;\">\n",
       "      <th></th>\n",
       "      <th>A</th>\n",
       "      <th>B</th>\n",
       "      <th>C</th>\n",
       "      <th>D</th>\n",
       "      <th>E</th>\n",
       "    </tr>\n",
       "  </thead>\n",
       "  <tbody>\n",
       "    <tr>\n",
       "      <th>a</th>\n",
       "      <td>16</td>\n",
       "      <td>13</td>\n",
       "      <td>11</td>\n",
       "      <td>19</td>\n",
       "      <td>18</td>\n",
       "    </tr>\n",
       "    <tr>\n",
       "      <th>c</th>\n",
       "      <td>20</td>\n",
       "      <td>13</td>\n",
       "      <td>18</td>\n",
       "      <td>20</td>\n",
       "      <td>16</td>\n",
       "    </tr>\n",
       "    <tr>\n",
       "      <th>d</th>\n",
       "      <td>18</td>\n",
       "      <td>21</td>\n",
       "      <td>16</td>\n",
       "      <td>13</td>\n",
       "      <td>21</td>\n",
       "    </tr>\n",
       "  </tbody>\n",
       "</table>\n",
       "</div>"
      ],
      "text/plain": [
       "    A   B   C   D   E\n",
       "a  16  13  11  19  18\n",
       "c  20  13  18  20  16\n",
       "d  18  21  16  13  21"
      ]
     },
     "execution_count": 104,
     "metadata": {},
     "output_type": "execute_result"
    }
   ],
   "source": [
    "df.loc[df.A > 15]"
   ]
  },
  {
   "cell_type": "markdown",
   "id": "a0ccc215",
   "metadata": {},
   "source": [
    "- 행과 열을 모두 지정하고 싶다면 df.loc[행 인덱스, 열 인덱스]와 같은 형태로 사용한다."
   ]
  },
  {
   "cell_type": "code",
   "execution_count": 105,
   "id": "cd9b7104",
   "metadata": {},
   "outputs": [
    {
     "data": {
      "text/plain": [
       "16"
      ]
     },
     "execution_count": 105,
     "metadata": {},
     "output_type": "execute_result"
    }
   ],
   "source": [
    "df.loc[\"a\", \"A\"]"
   ]
  },
  {
   "cell_type": "code",
   "execution_count": 106,
   "id": "065bfb71",
   "metadata": {},
   "outputs": [
    {
     "data": {
      "text/html": [
       "<div>\n",
       "<style scoped>\n",
       "    .dataframe tbody tr th:only-of-type {\n",
       "        vertical-align: middle;\n",
       "    }\n",
       "\n",
       "    .dataframe tbody tr th {\n",
       "        vertical-align: top;\n",
       "    }\n",
       "\n",
       "    .dataframe thead th {\n",
       "        text-align: right;\n",
       "    }\n",
       "</style>\n",
       "<table border=\"1\" class=\"dataframe\">\n",
       "  <thead>\n",
       "    <tr style=\"text-align: right;\">\n",
       "      <th></th>\n",
       "      <th>C</th>\n",
       "      <th>D</th>\n",
       "      <th>E</th>\n",
       "    </tr>\n",
       "  </thead>\n",
       "  <tbody>\n",
       "    <tr>\n",
       "      <th>a</th>\n",
       "      <td>11</td>\n",
       "      <td>19</td>\n",
       "      <td>18</td>\n",
       "    </tr>\n",
       "    <tr>\n",
       "      <th>b</th>\n",
       "      <td>13</td>\n",
       "      <td>15</td>\n",
       "      <td>17</td>\n",
       "    </tr>\n",
       "  </tbody>\n",
       "</table>\n",
       "</div>"
      ],
      "text/plain": [
       "    C   D   E\n",
       "a  11  19  18\n",
       "b  13  15  17"
      ]
     },
     "execution_count": 106,
     "metadata": {},
     "output_type": "execute_result"
    }
   ],
   "source": [
    "df.loc[[\"a\", \"b\"], \"C\":\"E\"]"
   ]
  },
  {
   "cell_type": "code",
   "execution_count": 107,
   "id": "e092bba2",
   "metadata": {},
   "outputs": [
    {
     "data": {
      "text/html": [
       "<div>\n",
       "<style scoped>\n",
       "    .dataframe tbody tr th:only-of-type {\n",
       "        vertical-align: middle;\n",
       "    }\n",
       "\n",
       "    .dataframe tbody tr th {\n",
       "        vertical-align: top;\n",
       "    }\n",
       "\n",
       "    .dataframe thead th {\n",
       "        text-align: right;\n",
       "    }\n",
       "</style>\n",
       "<table border=\"1\" class=\"dataframe\">\n",
       "  <thead>\n",
       "    <tr style=\"text-align: right;\">\n",
       "      <th></th>\n",
       "      <th>C</th>\n",
       "      <th>D</th>\n",
       "    </tr>\n",
       "  </thead>\n",
       "  <tbody>\n",
       "    <tr>\n",
       "      <th>a</th>\n",
       "      <td>11</td>\n",
       "      <td>19</td>\n",
       "    </tr>\n",
       "    <tr>\n",
       "      <th>b</th>\n",
       "      <td>13</td>\n",
       "      <td>15</td>\n",
       "    </tr>\n",
       "    <tr>\n",
       "      <th>c</th>\n",
       "      <td>18</td>\n",
       "      <td>20</td>\n",
       "    </tr>\n",
       "    <tr>\n",
       "      <th>d</th>\n",
       "      <td>16</td>\n",
       "      <td>13</td>\n",
       "    </tr>\n",
       "  </tbody>\n",
       "</table>\n",
       "</div>"
      ],
      "text/plain": [
       "    C   D\n",
       "a  11  19\n",
       "b  13  15\n",
       "c  18  20\n",
       "d  16  13"
      ]
     },
     "execution_count": 107,
     "metadata": {},
     "output_type": "execute_result"
    }
   ],
   "source": [
    "df.loc[df.A > 10, [\"C\", \"D\"]]"
   ]
  },
  {
   "cell_type": "markdown",
   "id": "904c8d59",
   "metadata": {},
   "source": [
    "### indexing - df.iloc\n",
    "- iloc는 loc와 다르게 정수만 입력할 수 있다. 허용되는 input은 다음과 같다,\n",
    "    - An integer\n",
    "    - A list of intergers\n",
    "    - A slice\n",
    "    - A boolean array"
   ]
  },
  {
   "cell_type": "code",
   "execution_count": 108,
   "id": "20bfcb77",
   "metadata": {},
   "outputs": [
    {
     "data": {
      "text/plain": [
       "A    14\n",
       "B    14\n",
       "C    13\n",
       "D    15\n",
       "E    17\n",
       "Name: b, dtype: int32"
      ]
     },
     "execution_count": 108,
     "metadata": {},
     "output_type": "execute_result"
    }
   ],
   "source": [
    "df.iloc[1]"
   ]
  },
  {
   "cell_type": "code",
   "execution_count": 109,
   "id": "c292a2c8",
   "metadata": {},
   "outputs": [
    {
     "data": {
      "text/plain": [
       "a    11\n",
       "b    13\n",
       "Name: C, dtype: int32"
      ]
     },
     "execution_count": 109,
     "metadata": {},
     "output_type": "execute_result"
    }
   ],
   "source": [
    "df.iloc[:2, 2]"
   ]
  },
  {
   "cell_type": "markdown",
   "id": "50163e7b",
   "metadata": {},
   "source": [
    "### DataFrame method\n",
    "- df.info(): 데이터프레임에 관련된 기본 데이터를 반환\n",
    "- df.head(): 데이터프레임의 첫 5열을 반환 (default는 5줄)\n",
    "- df,tail(): 데이터프레임의 마지막 7열을 반환\n",
    "- df.axes: 데이터프레임의 축을 나타내는 목록을 반환\n",
    "- df.index: 데이터프레임의 인덱스(행 레이블) 반환\n",
    "- df.columnsL 데이터프레임의 열 레이블 반환\n",
    "- df.values: 데이터프레임을 Numpy 형식으로 반환\n",
    "- df.ndim: 차원을 나타내는 int를 반환\n",
    "- df.shape: 데이터프레임의 크기를 나타내는 튜플을 반환\n",
    "- df.size: 데이터프레임의 크기를 나타내는 int를 반환\n",
    "- df.dtypes: 데이터프레임에서 dtype(데이터 타입)을 반환\n",
    "- df.count: 데이터프레임에서 데이터의 개수를 반환(옵션으로 axis=0, axis=1은 각각 컬럼,열 기준을 의미)"
   ]
  },
  {
   "cell_type": "markdown",
   "id": "8858ad78",
   "metadata": {},
   "source": [
    "- R에서의 summary 함수는 컬럼별 통계량을 반환하여 데이터의 구조를 파악하는데 유용하다.\n",
    "- python에서 동일한 함수는 pandas의 describe 함수이다."
   ]
  },
  {
   "cell_type": "code",
   "execution_count": 110,
   "id": "58ea6852",
   "metadata": {},
   "outputs": [
    {
     "data": {
      "text/html": [
       "<div>\n",
       "<style scoped>\n",
       "    .dataframe tbody tr th:only-of-type {\n",
       "        vertical-align: middle;\n",
       "    }\n",
       "\n",
       "    .dataframe tbody tr th {\n",
       "        vertical-align: top;\n",
       "    }\n",
       "\n",
       "    .dataframe thead th {\n",
       "        text-align: right;\n",
       "    }\n",
       "</style>\n",
       "<table border=\"1\" class=\"dataframe\">\n",
       "  <thead>\n",
       "    <tr style=\"text-align: right;\">\n",
       "      <th></th>\n",
       "      <th>A</th>\n",
       "      <th>B</th>\n",
       "      <th>C</th>\n",
       "      <th>D</th>\n",
       "      <th>E</th>\n",
       "    </tr>\n",
       "  </thead>\n",
       "  <tbody>\n",
       "    <tr>\n",
       "      <th>count</th>\n",
       "      <td>4.000000</td>\n",
       "      <td>4.00000</td>\n",
       "      <td>4.000000</td>\n",
       "      <td>4.000000</td>\n",
       "      <td>4.000000</td>\n",
       "    </tr>\n",
       "    <tr>\n",
       "      <th>mean</th>\n",
       "      <td>17.000000</td>\n",
       "      <td>15.25000</td>\n",
       "      <td>14.500000</td>\n",
       "      <td>16.750000</td>\n",
       "      <td>18.000000</td>\n",
       "    </tr>\n",
       "    <tr>\n",
       "      <th>std</th>\n",
       "      <td>2.581989</td>\n",
       "      <td>3.86221</td>\n",
       "      <td>3.109126</td>\n",
       "      <td>3.304038</td>\n",
       "      <td>2.160247</td>\n",
       "    </tr>\n",
       "    <tr>\n",
       "      <th>min</th>\n",
       "      <td>14.000000</td>\n",
       "      <td>13.00000</td>\n",
       "      <td>11.000000</td>\n",
       "      <td>13.000000</td>\n",
       "      <td>16.000000</td>\n",
       "    </tr>\n",
       "    <tr>\n",
       "      <th>25%</th>\n",
       "      <td>15.500000</td>\n",
       "      <td>13.00000</td>\n",
       "      <td>12.500000</td>\n",
       "      <td>14.500000</td>\n",
       "      <td>16.750000</td>\n",
       "    </tr>\n",
       "    <tr>\n",
       "      <th>50%</th>\n",
       "      <td>17.000000</td>\n",
       "      <td>13.50000</td>\n",
       "      <td>14.500000</td>\n",
       "      <td>17.000000</td>\n",
       "      <td>17.500000</td>\n",
       "    </tr>\n",
       "    <tr>\n",
       "      <th>75%</th>\n",
       "      <td>18.500000</td>\n",
       "      <td>15.75000</td>\n",
       "      <td>16.500000</td>\n",
       "      <td>19.250000</td>\n",
       "      <td>18.750000</td>\n",
       "    </tr>\n",
       "    <tr>\n",
       "      <th>max</th>\n",
       "      <td>20.000000</td>\n",
       "      <td>21.00000</td>\n",
       "      <td>18.000000</td>\n",
       "      <td>20.000000</td>\n",
       "      <td>21.000000</td>\n",
       "    </tr>\n",
       "  </tbody>\n",
       "</table>\n",
       "</div>"
      ],
      "text/plain": [
       "               A         B          C          D          E\n",
       "count   4.000000   4.00000   4.000000   4.000000   4.000000\n",
       "mean   17.000000  15.25000  14.500000  16.750000  18.000000\n",
       "std     2.581989   3.86221   3.109126   3.304038   2.160247\n",
       "min    14.000000  13.00000  11.000000  13.000000  16.000000\n",
       "25%    15.500000  13.00000  12.500000  14.500000  16.750000\n",
       "50%    17.000000  13.50000  14.500000  17.000000  17.500000\n",
       "75%    18.500000  15.75000  16.500000  19.250000  18.750000\n",
       "max    20.000000  21.00000  18.000000  20.000000  21.000000"
      ]
     },
     "execution_count": 110,
     "metadata": {},
     "output_type": "execute_result"
    }
   ],
   "source": [
    "df.describe()"
   ]
  },
  {
   "cell_type": "markdown",
   "id": "e709948d",
   "metadata": {},
   "source": [
    "## 4. File I/O\n",
    "- Pandas 는 데이터 파일을 읽어 데이터프레임을 만들 수 있다.\n",
    "- 널리 사용되는 파일 형식은 CSV(Comma Separated Value), excel, sql 등이 있으며 import-output function은 다음과 같다.\n",
    "    - pd.read_csv/pd.to_csv\n",
    "    - pd.read_excel/pd.to_excel\n",
    "    - pd.read_sql/pd.to_sql\n",
    "  "
   ]
  },
  {
   "cell_type": "markdown",
   "id": "4b84e57b",
   "metadata": {},
   "source": [
    "- 샘플 데이터로 사용한 csv 파일을 **%%writefile** 매직 명령으로 만들어보자. 이 명령은 셀에 서술한 내용대로 텍스트 파일을 만드는 명령이다."
   ]
  },
  {
   "cell_type": "code",
   "execution_count": 115,
   "id": "34f10eb1",
   "metadata": {},
   "outputs": [
    {
     "name": "stdout",
     "output_type": "stream",
     "text": [
      "Overwriting sample1.csv\n"
     ]
    }
   ],
   "source": [
    "%%writefile sample1.csv\n",
    "c1, c2, c3\n",
    "1, 1.11, one\n",
    "2, 2.22, 22, two\n",
    "3, 3.33, 33, three"
   ]
  },
  {
   "cell_type": "markdown",
   "id": "e791c91e",
   "metadata": {},
   "source": [
    "### File import\n",
    "- csv 파일로부터 데이터를 읽어 데이터프레임을 만들 때는 pandas.read_csv 함수를 사용하다. \n",
    "- 이때, 작업 중인 폴더에 파일을 복사해두고 함수의 입력값으로 파일 이름을 넣는다.\n",
    "\n",
    "```python\n",
    "pd.read_csv('sample1.csv')\n",
    "```"
   ]
  },
  {
   "cell_type": "markdown",
   "id": "bc187c0e",
   "metadata": {},
   "source": [
    "- 파일 경로를 입력하여 파일을 불로올 수 있다.\n",
    "```python\n",
    "data = pd.read_csv('파일경로/파일이름.csv')\n",
    "```"
   ]
  },
  {
   "cell_type": "markdown",
   "id": "d9c5420e",
   "metadata": {},
   "source": [
    "### Parameter\n",
    "- read_csv는 여러가지 파라미터를 통해서 옵션을 줄 수 있다.\n"
   ]
  },
  {
   "cell_type": "markdown",
   "id": "1886e9a5",
   "metadata": {},
   "source": [
    "- filepath/buffer: 파일경로/파일이름.csv을 입력하여 파일을 불러온다.\n",
    "- sep/delimiter: default는 comma(,)이며 만약 데이터의 분리기준이 쉼표가(,)가 아닌 경우 기준이 되는 값을 입력하면 된다.\n",
    "- header: default는 0으로 컬럼명으로 사용할 행의 번호를 입력한다.\n",
    "- names: 사용할 변수명을 입력한다. 파일에 변수명이 없다면 header를 none으로 설정해야 한다.\n",
    "- index_col: 데이터의 인덱스로 사용할 열의 번호를 입력한다.\n",
    "- skiprows: 첫 행을 기준으로 데이터를 얼마나 건너뛰고 읽어올지를 정한다.\n",
    "- nrows: 파일을 읽어올 행의 수를 입력한다.\n",
    "- data_parser: 시계열 타입으로 변환할 변수를 입력한다."
   ]
  },
  {
   "cell_type": "markdown",
   "id": "31cc653c",
   "metadata": {},
   "source": [
    "- 확장자가 csv가 아닌 파일 즉, 데이터를 구분하는 구분자가 쉼표가 아닌 예시를 보자.\n",
    "- 길이가 정해지지 않은 공백이 구분자인 경우에는 sep= '\\s+' 정규식(regular expression) 문자열을 사용한다."
   ]
  },
  {
   "cell_type": "code",
   "execution_count": 2,
   "id": "65d0efa8",
   "metadata": {},
   "outputs": [
    {
     "name": "stdout",
     "output_type": "stream",
     "text": [
      "Writing sample2.txt\n"
     ]
    }
   ],
   "source": [
    "%%writefile sample2.txt\n",
    "c1 c2 c3 c4\n",
    "0.179181 -1.538472 1.347553 0.43381\n",
    "1.024209 0.087307 -1.281997 0.49265\n",
    "0.417899 -2.002308 0.255245 -1.10515"
   ]
  },
  {
   "cell_type": "code",
   "execution_count": 3,
   "id": "5b63dedd",
   "metadata": {},
   "outputs": [
    {
     "data": {
      "text/html": [
       "<div>\n",
       "<style scoped>\n",
       "    .dataframe tbody tr th:only-of-type {\n",
       "        vertical-align: middle;\n",
       "    }\n",
       "\n",
       "    .dataframe tbody tr th {\n",
       "        vertical-align: top;\n",
       "    }\n",
       "\n",
       "    .dataframe thead th {\n",
       "        text-align: right;\n",
       "    }\n",
       "</style>\n",
       "<table border=\"1\" class=\"dataframe\">\n",
       "  <thead>\n",
       "    <tr style=\"text-align: right;\">\n",
       "      <th></th>\n",
       "      <th>c1</th>\n",
       "      <th>c2</th>\n",
       "      <th>c3</th>\n",
       "      <th>c4</th>\n",
       "    </tr>\n",
       "  </thead>\n",
       "  <tbody>\n",
       "    <tr>\n",
       "      <th>0</th>\n",
       "      <td>0.179181</td>\n",
       "      <td>-1.538472</td>\n",
       "      <td>1.347553</td>\n",
       "      <td>0.43381</td>\n",
       "    </tr>\n",
       "    <tr>\n",
       "      <th>1</th>\n",
       "      <td>1.024209</td>\n",
       "      <td>0.087307</td>\n",
       "      <td>-1.281997</td>\n",
       "      <td>0.49265</td>\n",
       "    </tr>\n",
       "    <tr>\n",
       "      <th>2</th>\n",
       "      <td>0.417899</td>\n",
       "      <td>-2.002308</td>\n",
       "      <td>0.255245</td>\n",
       "      <td>-1.10515</td>\n",
       "    </tr>\n",
       "  </tbody>\n",
       "</table>\n",
       "</div>"
      ],
      "text/plain": [
       "         c1        c2        c3       c4\n",
       "0  0.179181 -1.538472  1.347553  0.43381\n",
       "1  1.024209  0.087307 -1.281997  0.49265\n",
       "2  0.417899 -2.002308  0.255245 -1.10515"
      ]
     },
     "execution_count": 3,
     "metadata": {},
     "output_type": "execute_result"
    }
   ],
   "source": [
    "pd.read_csv('sample2.txt', sep='\\s+')"
   ]
  },
  {
   "cell_type": "markdown",
   "id": "95ad0729",
   "metadata": {},
   "source": [
    "### File output\n",
    "- 파이썬의 데이터프레임 값을 csv 파일로 출력하고 싶으면 to_csv 메서드를 사용한다.\n",
    "```python\n",
    "df.to_csv('sample3.csv')\n",
    "```"
   ]
  },
  {
   "cell_type": "markdown",
   "id": "84e4fea2",
   "metadata": {},
   "source": [
    "- 파일을 읽을 때와 마찬가지로 출력할 때도 sep 인수로 구분자를 바꿀 수 있다."
   ]
  },
  {
   "cell_type": "code",
   "execution_count": 12,
   "id": "bbc83d07",
   "metadata": {},
   "outputs": [],
   "source": [
    "df.to_csv('sample4.txt', sep='|')"
   ]
  },
  {
   "cell_type": "markdown",
   "id": "5e40f49b",
   "metadata": {},
   "source": [
    "```python\n",
    "!type sample4.txt  \n",
    "\n",
    "|A|B|C|D|E\n",
    "a|16|13|11|19|18\n",
    "b|14|14|13|15|17\n",
    "c|20|13|18|20|16\n",
    "d|18|21|16|13|21\n",
    "```"
   ]
  },
  {
   "cell_type": "markdown",
   "id": "1bf2214d",
   "metadata": {},
   "source": [
    "### Load data from url\n",
    "- 웹상에는 다양한 파일이 csv 파일 형태로 제공된다.\n",
    "- read_csv 명령 사용 시 파일패스 대신 URL을 지정하면 Pandas가 직접 해당 파일을 다운로드하여 읽어들인다."
   ]
  },
  {
   "cell_type": "code",
   "execution_count": 16,
   "id": "0c6842c7",
   "metadata": {},
   "outputs": [],
   "source": [
    "math = pd.read_csv(\"http://home.ewha.ac.kr/~josong/dm/mathcat.data\", sep = '\\s+')\n",
    "# 구분자가 공백이므로 옵션으로 지정한다."
   ]
  },
  {
   "cell_type": "markdown",
   "id": "23a0de10",
   "metadata": {},
   "source": [
    "### Check data\n",
    "- 데이터의 수가 많을 경우, 데이터프레임을 보여줄 행과 열의 수를 지정할 수 있다.\n",
    "- 다음 메서드는 데이터 전부를 보여주지 않고 데이터 상단부분(head)와 하단부분(tail)만 출력하여 보여준다.\n",
    "- 기본값으로 5줄을 보여주며 옵션으로 이를 지정할 수 있다."
   ]
  },
  {
   "cell_type": "code",
   "execution_count": 17,
   "id": "0470c248",
   "metadata": {},
   "outputs": [
    {
     "data": {
      "text/html": [
       "<div>\n",
       "<style scoped>\n",
       "    .dataframe tbody tr th:only-of-type {\n",
       "        vertical-align: middle;\n",
       "    }\n",
       "\n",
       "    .dataframe tbody tr th {\n",
       "        vertical-align: top;\n",
       "    }\n",
       "\n",
       "    .dataframe thead th {\n",
       "        text-align: right;\n",
       "    }\n",
       "</style>\n",
       "<table border=\"1\" class=\"dataframe\">\n",
       "  <thead>\n",
       "    <tr style=\"text-align: right;\">\n",
       "      <th></th>\n",
       "      <th>hsgpa</th>\n",
       "      <th>hsengl</th>\n",
       "      <th>hscalc</th>\n",
       "      <th>course</th>\n",
       "      <th>passed</th>\n",
       "      <th>outcome</th>\n",
       "    </tr>\n",
       "  </thead>\n",
       "  <tbody>\n",
       "    <tr>\n",
       "      <th>1</th>\n",
       "      <td>78.0</td>\n",
       "      <td>80</td>\n",
       "      <td>Yes</td>\n",
       "      <td>Mainstrm</td>\n",
       "      <td>No</td>\n",
       "      <td>Failed</td>\n",
       "    </tr>\n",
       "    <tr>\n",
       "      <th>2</th>\n",
       "      <td>66.0</td>\n",
       "      <td>75</td>\n",
       "      <td>Yes</td>\n",
       "      <td>Mainstrm</td>\n",
       "      <td>Yes</td>\n",
       "      <td>Passed</td>\n",
       "    </tr>\n",
       "    <tr>\n",
       "      <th>3</th>\n",
       "      <td>80.2</td>\n",
       "      <td>70</td>\n",
       "      <td>Yes</td>\n",
       "      <td>Mainstrm</td>\n",
       "      <td>Yes</td>\n",
       "      <td>Passed</td>\n",
       "    </tr>\n",
       "    <tr>\n",
       "      <th>4</th>\n",
       "      <td>81.7</td>\n",
       "      <td>67</td>\n",
       "      <td>Yes</td>\n",
       "      <td>Mainstrm</td>\n",
       "      <td>Yes</td>\n",
       "      <td>Passed</td>\n",
       "    </tr>\n",
       "  </tbody>\n",
       "</table>\n",
       "</div>"
      ],
      "text/plain": [
       "   hsgpa  hsengl hscalc    course passed outcome\n",
       "1   78.0      80    Yes  Mainstrm     No  Failed\n",
       "2   66.0      75    Yes  Mainstrm    Yes  Passed\n",
       "3   80.2      70    Yes  Mainstrm    Yes  Passed\n",
       "4   81.7      67    Yes  Mainstrm    Yes  Passed"
      ]
     },
     "execution_count": 17,
     "metadata": {},
     "output_type": "execute_result"
    }
   ],
   "source": [
    "math.head(n=4)"
   ]
  },
  {
   "cell_type": "code",
   "execution_count": 18,
   "id": "895e28c5",
   "metadata": {},
   "outputs": [
    {
     "data": {
      "text/html": [
       "<div>\n",
       "<style scoped>\n",
       "    .dataframe tbody tr th:only-of-type {\n",
       "        vertical-align: middle;\n",
       "    }\n",
       "\n",
       "    .dataframe tbody tr th {\n",
       "        vertical-align: top;\n",
       "    }\n",
       "\n",
       "    .dataframe thead th {\n",
       "        text-align: right;\n",
       "    }\n",
       "</style>\n",
       "<table border=\"1\" class=\"dataframe\">\n",
       "  <thead>\n",
       "    <tr style=\"text-align: right;\">\n",
       "      <th></th>\n",
       "      <th>hsgpa</th>\n",
       "      <th>hsengl</th>\n",
       "      <th>hscalc</th>\n",
       "      <th>course</th>\n",
       "      <th>passed</th>\n",
       "      <th>outcome</th>\n",
       "    </tr>\n",
       "  </thead>\n",
       "  <tbody>\n",
       "    <tr>\n",
       "      <th>392</th>\n",
       "      <td>80.7</td>\n",
       "      <td>70</td>\n",
       "      <td>Yes</td>\n",
       "      <td>Mainstrm</td>\n",
       "      <td>Yes</td>\n",
       "      <td>Passed</td>\n",
       "    </tr>\n",
       "    <tr>\n",
       "      <th>393</th>\n",
       "      <td>80.7</td>\n",
       "      <td>81</td>\n",
       "      <td>Yes</td>\n",
       "      <td>Mainstrm</td>\n",
       "      <td>Yes</td>\n",
       "      <td>Passed</td>\n",
       "    </tr>\n",
       "    <tr>\n",
       "      <th>394</th>\n",
       "      <td>82.2</td>\n",
       "      <td>86</td>\n",
       "      <td>Yes</td>\n",
       "      <td>Catch-up</td>\n",
       "      <td>Yes</td>\n",
       "      <td>Passed</td>\n",
       "    </tr>\n",
       "  </tbody>\n",
       "</table>\n",
       "</div>"
      ],
      "text/plain": [
       "     hsgpa  hsengl hscalc    course passed outcome\n",
       "392   80.7      70    Yes  Mainstrm    Yes  Passed\n",
       "393   80.7      81    Yes  Mainstrm    Yes  Passed\n",
       "394   82.2      86    Yes  Catch-up    Yes  Passed"
      ]
     },
     "execution_count": 18,
     "metadata": {},
     "output_type": "execute_result"
    }
   ],
   "source": [
    "math.tail(n=3)"
   ]
  },
  {
   "cell_type": "markdown",
   "id": "002780dd",
   "metadata": {},
   "source": [
    "## 5. Function\n",
    "- 함수는 하나의 관련 작업을 수행하는 데 사용되고 체계적이며 재사용 가능한 코드 블록이다.\n",
    "\n",
    "```python\n",
    "def your_function_name(parameter):\n",
    "    statements\n",
    "    return expression\n",
    "```\n"
   ]
  },
  {
   "cell_type": "markdown",
   "id": "aa6d9ad3",
   "metadata": {},
   "source": [
    "- 시작은 define의 약어인 def로 시작하고 함수명(입력값 지정, 생략 가능), 그리고 콜론(,)으로 끝난다.\n",
    "- 원하는 작업 실행이 가능한 코드를 적는다.\n",
    "- 출력되는 함수 결과값을 지정한다."
   ]
  },
  {
   "cell_type": "code",
   "execution_count": 19,
   "id": "b901b543",
   "metadata": {},
   "outputs": [
    {
     "data": {
      "text/plain": [
       "3"
      ]
     },
     "execution_count": 19,
     "metadata": {},
     "output_type": "execute_result"
    }
   ],
   "source": [
    "# Ex01\n",
    "# 두 개의 숫자를 입력받아 합을 구하는 함수\n",
    "\n",
    "def mysum1(a, b):\n",
    "    res = a + b\n",
    "    return res\n",
    "\n",
    "mysum1(1, 2)"
   ]
  },
  {
   "cell_type": "code",
   "execution_count": 20,
   "id": "5562135e",
   "metadata": {},
   "outputs": [
    {
     "data": {
      "text/plain": [
       "10"
      ]
     },
     "execution_count": 20,
     "metadata": {},
     "output_type": "execute_result"
    }
   ],
   "source": [
    "# Ex02\n",
    "# 입력값까지의 합을 구하는 함수\n",
    "\n",
    "def mysum(n):\n",
    "    res = 0\n",
    "    for i in range(1, n+1):\n",
    "        res = res + 1\n",
    "    return res\n",
    "\n",
    "mysum(10)"
   ]
  },
  {
   "cell_type": "markdown",
   "id": "644dddbb",
   "metadata": {},
   "source": [
    "### 실습\n",
    "- while 문을 이용하여 입력값까지의 합을 구하는 함수를 만드세요"
   ]
  },
  {
   "cell_type": "code",
   "execution_count": 21,
   "id": "39fb6061",
   "metadata": {},
   "outputs": [
    {
     "data": {
      "text/plain": [
       "10"
      ]
     },
     "execution_count": 21,
     "metadata": {},
     "output_type": "execute_result"
    }
   ],
   "source": [
    "def mysum2(n):\n",
    "    res = 0\n",
    "    i = 1\n",
    "    while i < (n+1):\n",
    "        res = res + 1\n",
    "        i = i + 1\n",
    "    return(res)\n",
    "\n",
    "mysum2(10)"
   ]
  },
  {
   "cell_type": "markdown",
   "id": "03127d59",
   "metadata": {},
   "source": [
    "- 여러 개의 입력값을 받는 함수를 만드는 경우\n",
    "- 매개변수 이름 앞에 * 을 붙이면 입력값을 전부 모아서 튜플로 만들어 준다."
   ]
  },
  {
   "cell_type": "code",
   "execution_count": 22,
   "id": "4034e78f",
   "metadata": {},
   "outputs": [
    {
     "data": {
      "text/plain": [
       "16"
      ]
     },
     "execution_count": 22,
     "metadata": {},
     "output_type": "execute_result"
    }
   ],
   "source": [
    "# Ex03\n",
    "\n",
    "def mysum3(*args):\n",
    "    res = 0\n",
    "    for i in args:\n",
    "        res = res + i\n",
    "    return res\n",
    "\n",
    "mysum3(1, 3, 5, 7)"
   ]
  },
  {
   "cell_type": "markdown",
   "id": "30ac3090",
   "metadata": {},
   "source": [
    "- 파이썬에서는 람다함수를 통해 이름이 없는 함수를 만들 수 있다.\n",
    "- 람다함수를 통해 코드를 간결하게 쓸 수 있으며 메모리를 절약할 수 있다.\n",
    "```python\n",
    "lambda arguments: expression\n",
    "```"
   ]
  },
  {
   "cell_type": "markdown",
   "id": "03d77fbd",
   "metadata": {},
   "source": [
    "- 람다함수는 lambda라는 키워드를 통해 생성할 수 있다. \n",
    "- 익명함수라는 이름처럼 lambda 함수는 함수의 이름을 지정하지 않는다.\n",
    "- 함수에 이름이 없고, 저장된 변수가 없기 떄문에 다시 사용할 수는 없다."
   ]
  },
  {
   "cell_type": "code",
   "execution_count": 23,
   "id": "0fda35bb",
   "metadata": {},
   "outputs": [
    {
     "name": "stdout",
     "output_type": "stream",
     "text": [
      "64\n"
     ]
    }
   ],
   "source": [
    "# Ex04\n",
    "\n",
    "cube = lambda x: x**3\n",
    "\n",
    "print(cube(4))"
   ]
  },
  {
   "cell_type": "markdown",
   "id": "f8c1fc19",
   "metadata": {},
   "source": [
    "- map() 함수는 두 개의 인수를 가지는 함수이다."
   ]
  },
  {
   "cell_type": "code",
   "execution_count": 24,
   "id": "0aa2ff48",
   "metadata": {},
   "outputs": [
    {
     "data": {
      "text/plain": [
       "[3, 7, 11, 15]"
      ]
     },
     "execution_count": 24,
     "metadata": {},
     "output_type": "execute_result"
    }
   ],
   "source": [
    "# Ex05\n",
    "\n",
    "in1 = [1, 3, 5, 7]\n",
    "in2 = [2, 4, 6, 8]\n",
    "list(map(lambda x, y: x+y, in1, in2))"
   ]
  },
  {
   "cell_type": "markdown",
   "id": "ba77bfdf",
   "metadata": {},
   "source": [
    "## 6. Plotting data\n",
    "#### A picture is worth a thousand words\n",
    "- 데이터 분석에서 데이터의 시각화 (visualization)는 필수적인 단계이다.\n",
    "- Python에서 데이터의 시각화를 제공하는 대표적인 package는 matplotlib이다.\n",
    "- matplotlib.pyplot의 plot() function은 R에서의 plot function과 비슷하다."
   ]
  },
  {
   "cell_type": "markdown",
   "id": "16ad5c47",
   "metadata": {},
   "source": [
    "### Scatter plot"
   ]
  },
  {
   "cell_type": "code",
   "execution_count": 26,
   "id": "4447d364",
   "metadata": {},
   "outputs": [
    {
     "data": {
      "image/png": "[encoded data removed]",
      "text/plain": [
       "<Figure size 640x480 with 1 Axes>"
      ]
     },
     "metadata": {},
     "output_type": "display_data"
    }
   ],
   "source": [
    "import numpy as np\n",
    "import matplotlib.pyplot as plt\n",
    "\n",
    "np.random.seed(123)\n",
    "\n",
    "x = np.array([1, 2, 3, 4, 5, 6, 7, 8, 9, 10])\n",
    "y = np.random.randint(10, 30, 10)\n",
    "\n",
    "plt.scatter(x, np.sort(y))\n",
    "plt.show()"
   ]
  },
  {
   "cell_type": "markdown",
   "id": "93cb0421",
   "metadata": {},
   "source": [
    "### Interpolation plot"
   ]
  },
  {
   "cell_type": "code",
   "execution_count": 27,
   "id": "2d950193",
   "metadata": {},
   "outputs": [
    {
     "data": {
      "image/png": "[encoded data removed]",
      "text/plain": [
       "<Figure size 640x480 with 1 Axes>"
      ]
     },
     "metadata": {},
     "output_type": "display_data"
    }
   ],
   "source": [
    "plt.plot(x, np.sort(y))\n",
    "plt.show()"
   ]
  },
  {
   "cell_type": "markdown",
   "id": "e9b078d1",
   "metadata": {},
   "source": [
    "### Scatter plot + Interpolation plot"
   ]
  },
  {
   "cell_type": "code",
   "execution_count": 28,
   "id": "f6b75470",
   "metadata": {},
   "outputs": [
    {
     "data": {
      "image/png": "[encoded data removed]",
      "text/plain": [
       "<Figure size 640x480 with 1 Axes>"
      ]
     },
     "metadata": {},
     "output_type": "display_data"
    }
   ],
   "source": [
    "plt.scatter(x, np.sort(y))\n",
    "plt.plot(x, np.sort(y))\n",
    "plt.show()"
   ]
  },
  {
   "cell_type": "markdown",
   "id": "f66e986b",
   "metadata": {},
   "source": [
    "- plot을 그리는 경우 그림의 title, x와 y label, 범례, 선 종류와 색상 지정은 반드시 알아둬야할 옵션들이다.\n",
    "    - plt.title()\n",
    "    - plt.xlabel(), plt.ylabel()\n",
    "    - plt.legend() (keyword: \"label = \")"
   ]
  },
  {
   "cell_type": "code",
   "execution_count": 29,
   "id": "a5d619a3",
   "metadata": {},
   "outputs": [
    {
     "data": {
      "image/png": "[encoded data removed]",
      "text/plain": [
       "<Figure size 640x480 with 1 Axes>"
      ]
     },
     "metadata": {},
     "output_type": "display_data"
    }
   ],
   "source": [
    "# Ex01\n",
    "\n",
    "x = np.array([1, 2, 3, 4, 5])\n",
    "y = np.array([0.1, 0.2, 0.4, 0.6, 0.8])\n",
    "\n",
    "plt.plot(x, y, 'r--', label = \"A\")\n",
    "plt.plot(x, y**2, 'bo', label = \"B\")\n",
    "plt.plot(x, y**3, 'g-.', label = \"C\")\n",
    "plt.title(\"Plot example\")\n",
    "plt.xlabel('x')\n",
    "plt.ylabel('y')\n",
    "plt.legend()\n",
    "plt.show()"
   ]
  },
  {
   "cell_type": "markdown",
   "id": "863d7faf",
   "metadata": {},
   "source": [
    "- matplotlib.pyplot 모듈의 subplot() 함수를 이용하여 여러 개의 그래프를 겹치지 않게 그릴 수 있다,\n",
    "```python\n",
    "plt.subplot(row, column, index)\n",
    "```"
   ]
  },
  {
   "cell_type": "code",
   "execution_count": 30,
   "id": "76a51c86",
   "metadata": {},
   "outputs": [
    {
     "data": {
      "image/png": "[encoded data removed]",
      "text/plain": [
       "<Figure size 640x480 with 2 Axes>"
      ]
     },
     "metadata": {},
     "output_type": "display_data"
    }
   ],
   "source": [
    "myx = np.array([1, 2, 3, 4])\n",
    "\n",
    "plt.subplot(2, 1, 1)\n",
    "plt.plot(myx, myx, 'o-')\n",
    "\n",
    "plt.subplot(2, 1, 2)\n",
    "plt.plot(myx, np.sqrt(-myx+5), 'go-')\n",
    "\n",
    "plt.show()"
   ]
  },
  {
   "cell_type": "markdown",
   "id": "ed33b447",
   "metadata": {},
   "source": [
    "## 7. Module(.py)"
   ]
  },
  {
   "cell_type": "markdown",
   "id": "1f2b4036",
   "metadata": {},
   "source": [
    "### Module?\n",
    "- 프로그램이 길어짐에 따라 디버깅과 유지를 쉽게 하려고 여러 개의 파일로 나누어 코딩하거나 각 프로그램에서 썼던 편리한 함수를 각 프로그램에 정의를 복사하지 않고도 사용하고 싶을 때 사용한다.\n",
    "- 파이썬은 정의들을 파일에 넣고 스크립트나 인터프리터의 대화형 모드에서 사용할 수 있는 방법을 제공하는데 그런 파일을 모듈이라고 한다. \n",
    "- 모듈은 파이썬 정의와 문장들을 담고 있는 파일로 확장자 .py를 붙인다."
   ]
  },
  {
   "cell_type": "markdown",
   "id": "935d91f0",
   "metadata": {},
   "source": [
    "### Creating module\n",
    "- 정규분포와 감마분포의 PDF를 그리는 모듈을 작성한다."
   ]
  },
  {
   "cell_type": "code",
   "execution_count": 31,
   "id": "b1182ec9",
   "metadata": {},
   "outputs": [],
   "source": [
    "def normplt(m, s):  # m(mean), s(standard deviation)\n",
    "    import numpy as np\n",
    "    import matplotlib.pyplot as plt\n",
    "    from scipy.stats import norm\n",
    "    \n",
    "    x = np.arange(m-3*s, m+3*s, 0.1)\n",
    "    plt.plot(x, norm.pdf(x, m, s), 'b')\n",
    "    plt.title('Normal(Mean =' + str(m) + ',STD =' + str(s) + ')PDF')\n",
    "    plt.show()\n",
    "\n",
    "def gamplt(a, b):\n",
    "    import numpy as np\n",
    "    import matplotlib.pyplot as plt\n",
    "    from scipy.stats import gamma\n",
    "    \n",
    "    x = np.arange(0, a*b+6*a*b*b, 0.1)\n",
    "    plt.plot(x, gamma.pdf(x, a, b), 'b')\n",
    "    plt.title('Gamma(Alpha=' + str(a) + ',Beta=' + str(b) + ')PDF')\n",
    "    plt.show()"
   ]
  },
  {
   "cell_type": "markdown",
   "id": "b60901cc",
   "metadata": {},
   "source": [
    "### Method 1\n",
    "1. 주피터 노트북에서 File => Save as 메뉴를 선택하여 폴더 지정 없이 바로 파일 이름을 적는다.\n",
    "2. 탭 이름이 'untitled'에서 저장된 이름 'pdfplt'로 바뀌고 Home 폴더에는 pdfplt.ipynb 파일이 저장된다.\n",
    "3. 주피터 노트북 실행 후 in 라인에 아래 코드를 입력하면 Home 폴더에 pdfplt.py 모듈이 만들어진다. \n",
    "\n",
    "```python\n",
    "!jupyter nbconver --to python pdfplt.ipynb\n",
    "```"
   ]
  },
  {
   "cell_type": "markdown",
   "id": "7d6f1264",
   "metadata": {},
   "source": [
    "### Method 2\n",
    "- 주피터 노트북에서 Filfe => Download as => Python(.py) 메뉴를 선택하면 다운로드 폴더에 pdfplt.py 모듈이 만들어진다. 작업 중인 노트북이 있는 폴더로 이동시킨다.\n"
   ]
  },
  {
   "cell_type": "markdown",
   "id": "d93ad3e7",
   "metadata": {},
   "source": [
    "### Using module\n",
    "```python\n",
    "from 모듈이름 import 함수이름1, 함수이름2\n",
    "```"
   ]
  },
  {
   "cell_type": "code",
   "execution_count": 34,
   "id": "b6f2fd98",
   "metadata": {},
   "outputs": [
    {
     "data": {
      "image/png": "[encoded data removed]",
      "text/plain": [
       "<Figure size 640x480 with 1 Axes>"
      ]
     },
     "metadata": {},
     "output_type": "display_data"
    },
    {
     "data": {
      "image/png": "[encoded data removed]",
      "text/plain": [
       "<Figure size 640x480 with 1 Axes>"
      ]
     },
     "metadata": {},
     "output_type": "display_data"
    }
   ],
   "source": [
    "# pdfplt.py를 이용하여 정규분포와 감마분포를 그려본다,\n",
    "\n",
    "from pdfplt import gamplt, normplt\n",
    "\n",
    "import matplotlib.pyplot as plt\n",
    "plt.subplot(2, 1, 1)  # nrows=2, ncols=1, index=1\n",
    "gamplt(2, 1)\n",
    "plt.subplot(2, 1, 2)  # nrows=2, ncols=1, index=2\n",
    "normplt(0, 1)"
   ]
  }
 ],
 "metadata": {
  "kernelspec": {
   "display_name": "Python 3 (ipykernel)",
   "language": "python",
   "name": "python3"
  },
  "language_info": {
   "codemirror_mode": {
    "name": "ipython",
    "version": 3
   },
   "file_extension": ".py",
   "mimetype": "text/x-python",
   "name": "python",
   "nbconvert_exporter": "python",
   "pygments_lexer": "ipython3",
   "version": "3.11.5"
  }
 },
 "nbformat": 4,
 "nbformat_minor": 5
}
